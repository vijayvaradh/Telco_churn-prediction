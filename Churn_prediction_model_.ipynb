{
  "nbformat": 4,
  "nbformat_minor": 0,
  "metadata": {
    "colab": {
      "provenance": [],
      "collapsed_sections": [],
      "authorship_tag": "ABX9TyM2Z58SV1Zh4QSXRIZIHPiV",
      "include_colab_link": true
    },
    "kernelspec": {
      "name": "python3",
      "display_name": "Python 3"
    },
    "language_info": {
      "name": "python"
    }
  },
  "cells": [
    {
      "cell_type": "markdown",
      "metadata": {
        "id": "view-in-github",
        "colab_type": "text"
      },
      "source": [
        "<a href=\"https://colab.research.google.com/github/vijayvaradh/Telco_churn-prediction/blob/main/Churn_prediction_model_.ipynb\" target=\"_parent\"><img src=\"https://colab.research.google.com/assets/colab-badge.svg\" alt=\"Open In Colab\"/></a>"
      ]
    },
    {
      "cell_type": "code",
      "metadata": {
        "id": "gEKcQVEwW4Tz"
      },
      "source": [
        "import pandas as pd\n",
        "import numpy as np\n",
        "import matplotlib.pyplot as plt\n",
        "import seaborn as sns"
      ],
      "execution_count": 2,
      "outputs": []
    },
    {
      "cell_type": "code",
      "source": [
        "url = 'https://github.com/vijayvaradh/Telco_churn-prediction'\n",
        "df_train = pd.read_csv('https://raw.githubusercontent.com/vijayvaradh/Telco_churn-prediction/main/cell2celltrain.csv')\n",
        "df_test = pd.read_csv('https://raw.githubusercontent.com/vijayvaradh/Telco_churn-prediction/main/cell2cellholdout.csv')"
      ],
      "metadata": {
        "id": "3nJsUa5tK-M_"
      },
      "execution_count": 17,
      "outputs": []
    },
    {
      "cell_type": "code",
      "source": [
        "df_train.shape"
      ],
      "metadata": {
        "colab": {
          "base_uri": "https://localhost:8080/"
        },
        "id": "LKyQK6JSL2Yc",
        "outputId": "c8f38715-d5fb-45fe-87fa-6a80b6041b0d"
      },
      "execution_count": 15,
      "outputs": [
        {
          "output_type": "execute_result",
          "data": {
            "text/plain": [
              "(51047, 58)"
            ]
          },
          "metadata": {},
          "execution_count": 15
        }
      ]
    },
    {
      "cell_type": "code",
      "source": [
        "df_test.shape"
      ],
      "metadata": {
        "colab": {
          "base_uri": "https://localhost:8080/"
        },
        "id": "gfWYuNARMdii",
        "outputId": "c12e6901-3573-4cba-9075-6b3df3599b19"
      },
      "execution_count": 18,
      "outputs": [
        {
          "output_type": "execute_result",
          "data": {
            "text/plain": [
              "(20000, 58)"
            ]
          },
          "metadata": {},
          "execution_count": 18
        }
      ]
    },
    {
      "cell_type": "code",
      "source": [
        "20000/(51047+20000)"
      ],
      "metadata": {
        "colab": {
          "base_uri": "https://localhost:8080/"
        },
        "id": "nT8pfl_tMhF6",
        "outputId": "a7dec44d-9dd2-4e9d-c4f9-c58f3a81a49e"
      },
      "execution_count": 19,
      "outputs": [
        {
          "output_type": "execute_result",
          "data": {
            "text/plain": [
              "0.28150379326361424"
            ]
          },
          "metadata": {},
          "execution_count": 19
        }
      ]
    },
    {
      "cell_type": "code",
      "metadata": {
        "colab": {
          "base_uri": "https://localhost:8080/",
          "height": 394
        },
        "id": "qebkJomXY0Mx",
        "outputId": "8df8c942-28c2-4c30-f488-43d9e6f0432d"
      },
      "source": [
        "df_train.describe()"
      ],
      "execution_count": 50,
      "outputs": [
        {
          "output_type": "execute_result",
          "data": {
            "text/plain": [
              "         CustomerID         Churn  MonthlyRevenue  MonthlyMinutes  \\\n",
              "count  4.975200e+04  49752.000000    49752.000000    49752.000000   \n",
              "mean   3.200958e+06      0.286320       58.717374      525.021466   \n",
              "std    1.164694e+05      0.452045       44.317244      528.510155   \n",
              "min    3.000002e+06      0.000000       -6.170000        0.000000   \n",
              "25%    3.100094e+06      0.000000       33.610000      158.000000   \n",
              "50%    3.200144e+06      0.000000       48.380000      366.000000   \n",
              "75%    3.303643e+06      1.000000       70.910000      722.000000   \n",
              "max    3.399974e+06      1.000000     1223.380000     7359.000000   \n",
              "\n",
              "       TotalRecurringCharge  DirectorAssistedCalls  OverageMinutes  \\\n",
              "count          49752.000000           49752.000000    49752.000000   \n",
              "mean              46.834961               0.891841       39.754040   \n",
              "std               23.759492               2.224725       96.091606   \n",
              "min               -6.000000               0.000000        0.000000   \n",
              "25%               30.000000               0.000000        0.000000   \n",
              "50%               45.000000               0.250000        3.000000   \n",
              "75%               60.000000               0.990000       40.000000   \n",
              "max              400.000000             159.390000     4321.000000   \n",
              "\n",
              "       RoamingCalls  PercChangeMinutes  PercChangeRevenues  ...      Handsets  \\\n",
              "count  49752.000000       49752.000000        49752.000000  ...  49752.000000   \n",
              "mean       1.226327         -11.656175           -1.175937  ...      1.805093   \n",
              "std        9.848360         255.858193           39.392124  ...      1.330834   \n",
              "min        0.000000       -3875.000000        -1107.700000  ...      1.000000   \n",
              "25%        0.000000         -83.000000           -7.000000  ...      1.000000   \n",
              "50%        0.000000          -5.000000           -0.300000  ...      1.000000   \n",
              "75%        0.300000          65.000000            1.600000  ...      2.000000   \n",
              "max     1112.400000        5192.000000         2483.500000  ...     24.000000   \n",
              "\n",
              "       HandsetModels  CurrentEquipmentDays        AgeHH1        AgeHH2  \\\n",
              "count   49752.000000          49752.000000  49752.000000  49752.000000   \n",
              "mean        1.558711            380.020843     31.338258     21.147592   \n",
              "std         0.906256            252.290072     22.091593     23.926589   \n",
              "min         1.000000             -5.000000      0.000000      0.000000   \n",
              "25%         1.000000            205.000000      0.000000      0.000000   \n",
              "50%         1.000000            330.000000     36.000000      0.000000   \n",
              "75%         2.000000            515.000000     48.000000     42.000000   \n",
              "max        15.000000           1812.000000     99.000000     99.000000   \n",
              "\n",
              "       RetentionCalls  RetentionOffersAccepted  ReferralsMadeBySubscriber  \\\n",
              "count    49752.000000             49752.000000               49752.000000   \n",
              "mean         0.035496                 0.018331                   0.051475   \n",
              "std          0.201964                 0.142854                   0.266490   \n",
              "min          0.000000                 0.000000                   0.000000   \n",
              "25%          0.000000                 0.000000                   0.000000   \n",
              "50%          0.000000                 0.000000                   0.000000   \n",
              "75%          0.000000                 0.000000                   0.000000   \n",
              "max          4.000000                 3.000000                  16.000000   \n",
              "\n",
              "        IncomeGroup  AdjustmentsToCreditRating  \n",
              "count  49752.000000               49752.000000  \n",
              "mean       4.402677                   0.053686  \n",
              "std        3.110498                   0.382677  \n",
              "min        0.000000                   0.000000  \n",
              "25%        1.000000                   0.000000  \n",
              "50%        5.000000                   0.000000  \n",
              "75%        7.000000                   0.000000  \n",
              "max        9.000000                  25.000000  \n",
              "\n",
              "[8 rows x 36 columns]"
            ],
            "text/html": [
              "\n",
              "  <div id=\"df-b7d014ce-d660-49d6-a00b-697dd3ffac5f\">\n",
              "    <div class=\"colab-df-container\">\n",
              "      <div>\n",
              "<style scoped>\n",
              "    .dataframe tbody tr th:only-of-type {\n",
              "        vertical-align: middle;\n",
              "    }\n",
              "\n",
              "    .dataframe tbody tr th {\n",
              "        vertical-align: top;\n",
              "    }\n",
              "\n",
              "    .dataframe thead th {\n",
              "        text-align: right;\n",
              "    }\n",
              "</style>\n",
              "<table border=\"1\" class=\"dataframe\">\n",
              "  <thead>\n",
              "    <tr style=\"text-align: right;\">\n",
              "      <th></th>\n",
              "      <th>CustomerID</th>\n",
              "      <th>Churn</th>\n",
              "      <th>MonthlyRevenue</th>\n",
              "      <th>MonthlyMinutes</th>\n",
              "      <th>TotalRecurringCharge</th>\n",
              "      <th>DirectorAssistedCalls</th>\n",
              "      <th>OverageMinutes</th>\n",
              "      <th>RoamingCalls</th>\n",
              "      <th>PercChangeMinutes</th>\n",
              "      <th>PercChangeRevenues</th>\n",
              "      <th>...</th>\n",
              "      <th>Handsets</th>\n",
              "      <th>HandsetModels</th>\n",
              "      <th>CurrentEquipmentDays</th>\n",
              "      <th>AgeHH1</th>\n",
              "      <th>AgeHH2</th>\n",
              "      <th>RetentionCalls</th>\n",
              "      <th>RetentionOffersAccepted</th>\n",
              "      <th>ReferralsMadeBySubscriber</th>\n",
              "      <th>IncomeGroup</th>\n",
              "      <th>AdjustmentsToCreditRating</th>\n",
              "    </tr>\n",
              "  </thead>\n",
              "  <tbody>\n",
              "    <tr>\n",
              "      <th>count</th>\n",
              "      <td>4.975200e+04</td>\n",
              "      <td>49752.000000</td>\n",
              "      <td>49752.000000</td>\n",
              "      <td>49752.000000</td>\n",
              "      <td>49752.000000</td>\n",
              "      <td>49752.000000</td>\n",
              "      <td>49752.000000</td>\n",
              "      <td>49752.000000</td>\n",
              "      <td>49752.000000</td>\n",
              "      <td>49752.000000</td>\n",
              "      <td>...</td>\n",
              "      <td>49752.000000</td>\n",
              "      <td>49752.000000</td>\n",
              "      <td>49752.000000</td>\n",
              "      <td>49752.000000</td>\n",
              "      <td>49752.000000</td>\n",
              "      <td>49752.000000</td>\n",
              "      <td>49752.000000</td>\n",
              "      <td>49752.000000</td>\n",
              "      <td>49752.000000</td>\n",
              "      <td>49752.000000</td>\n",
              "    </tr>\n",
              "    <tr>\n",
              "      <th>mean</th>\n",
              "      <td>3.200958e+06</td>\n",
              "      <td>0.286320</td>\n",
              "      <td>58.717374</td>\n",
              "      <td>525.021466</td>\n",
              "      <td>46.834961</td>\n",
              "      <td>0.891841</td>\n",
              "      <td>39.754040</td>\n",
              "      <td>1.226327</td>\n",
              "      <td>-11.656175</td>\n",
              "      <td>-1.175937</td>\n",
              "      <td>...</td>\n",
              "      <td>1.805093</td>\n",
              "      <td>1.558711</td>\n",
              "      <td>380.020843</td>\n",
              "      <td>31.338258</td>\n",
              "      <td>21.147592</td>\n",
              "      <td>0.035496</td>\n",
              "      <td>0.018331</td>\n",
              "      <td>0.051475</td>\n",
              "      <td>4.402677</td>\n",
              "      <td>0.053686</td>\n",
              "    </tr>\n",
              "    <tr>\n",
              "      <th>std</th>\n",
              "      <td>1.164694e+05</td>\n",
              "      <td>0.452045</td>\n",
              "      <td>44.317244</td>\n",
              "      <td>528.510155</td>\n",
              "      <td>23.759492</td>\n",
              "      <td>2.224725</td>\n",
              "      <td>96.091606</td>\n",
              "      <td>9.848360</td>\n",
              "      <td>255.858193</td>\n",
              "      <td>39.392124</td>\n",
              "      <td>...</td>\n",
              "      <td>1.330834</td>\n",
              "      <td>0.906256</td>\n",
              "      <td>252.290072</td>\n",
              "      <td>22.091593</td>\n",
              "      <td>23.926589</td>\n",
              "      <td>0.201964</td>\n",
              "      <td>0.142854</td>\n",
              "      <td>0.266490</td>\n",
              "      <td>3.110498</td>\n",
              "      <td>0.382677</td>\n",
              "    </tr>\n",
              "    <tr>\n",
              "      <th>min</th>\n",
              "      <td>3.000002e+06</td>\n",
              "      <td>0.000000</td>\n",
              "      <td>-6.170000</td>\n",
              "      <td>0.000000</td>\n",
              "      <td>-6.000000</td>\n",
              "      <td>0.000000</td>\n",
              "      <td>0.000000</td>\n",
              "      <td>0.000000</td>\n",
              "      <td>-3875.000000</td>\n",
              "      <td>-1107.700000</td>\n",
              "      <td>...</td>\n",
              "      <td>1.000000</td>\n",
              "      <td>1.000000</td>\n",
              "      <td>-5.000000</td>\n",
              "      <td>0.000000</td>\n",
              "      <td>0.000000</td>\n",
              "      <td>0.000000</td>\n",
              "      <td>0.000000</td>\n",
              "      <td>0.000000</td>\n",
              "      <td>0.000000</td>\n",
              "      <td>0.000000</td>\n",
              "    </tr>\n",
              "    <tr>\n",
              "      <th>25%</th>\n",
              "      <td>3.100094e+06</td>\n",
              "      <td>0.000000</td>\n",
              "      <td>33.610000</td>\n",
              "      <td>158.000000</td>\n",
              "      <td>30.000000</td>\n",
              "      <td>0.000000</td>\n",
              "      <td>0.000000</td>\n",
              "      <td>0.000000</td>\n",
              "      <td>-83.000000</td>\n",
              "      <td>-7.000000</td>\n",
              "      <td>...</td>\n",
              "      <td>1.000000</td>\n",
              "      <td>1.000000</td>\n",
              "      <td>205.000000</td>\n",
              "      <td>0.000000</td>\n",
              "      <td>0.000000</td>\n",
              "      <td>0.000000</td>\n",
              "      <td>0.000000</td>\n",
              "      <td>0.000000</td>\n",
              "      <td>1.000000</td>\n",
              "      <td>0.000000</td>\n",
              "    </tr>\n",
              "    <tr>\n",
              "      <th>50%</th>\n",
              "      <td>3.200144e+06</td>\n",
              "      <td>0.000000</td>\n",
              "      <td>48.380000</td>\n",
              "      <td>366.000000</td>\n",
              "      <td>45.000000</td>\n",
              "      <td>0.250000</td>\n",
              "      <td>3.000000</td>\n",
              "      <td>0.000000</td>\n",
              "      <td>-5.000000</td>\n",
              "      <td>-0.300000</td>\n",
              "      <td>...</td>\n",
              "      <td>1.000000</td>\n",
              "      <td>1.000000</td>\n",
              "      <td>330.000000</td>\n",
              "      <td>36.000000</td>\n",
              "      <td>0.000000</td>\n",
              "      <td>0.000000</td>\n",
              "      <td>0.000000</td>\n",
              "      <td>0.000000</td>\n",
              "      <td>5.000000</td>\n",
              "      <td>0.000000</td>\n",
              "    </tr>\n",
              "    <tr>\n",
              "      <th>75%</th>\n",
              "      <td>3.303643e+06</td>\n",
              "      <td>1.000000</td>\n",
              "      <td>70.910000</td>\n",
              "      <td>722.000000</td>\n",
              "      <td>60.000000</td>\n",
              "      <td>0.990000</td>\n",
              "      <td>40.000000</td>\n",
              "      <td>0.300000</td>\n",
              "      <td>65.000000</td>\n",
              "      <td>1.600000</td>\n",
              "      <td>...</td>\n",
              "      <td>2.000000</td>\n",
              "      <td>2.000000</td>\n",
              "      <td>515.000000</td>\n",
              "      <td>48.000000</td>\n",
              "      <td>42.000000</td>\n",
              "      <td>0.000000</td>\n",
              "      <td>0.000000</td>\n",
              "      <td>0.000000</td>\n",
              "      <td>7.000000</td>\n",
              "      <td>0.000000</td>\n",
              "    </tr>\n",
              "    <tr>\n",
              "      <th>max</th>\n",
              "      <td>3.399974e+06</td>\n",
              "      <td>1.000000</td>\n",
              "      <td>1223.380000</td>\n",
              "      <td>7359.000000</td>\n",
              "      <td>400.000000</td>\n",
              "      <td>159.390000</td>\n",
              "      <td>4321.000000</td>\n",
              "      <td>1112.400000</td>\n",
              "      <td>5192.000000</td>\n",
              "      <td>2483.500000</td>\n",
              "      <td>...</td>\n",
              "      <td>24.000000</td>\n",
              "      <td>15.000000</td>\n",
              "      <td>1812.000000</td>\n",
              "      <td>99.000000</td>\n",
              "      <td>99.000000</td>\n",
              "      <td>4.000000</td>\n",
              "      <td>3.000000</td>\n",
              "      <td>16.000000</td>\n",
              "      <td>9.000000</td>\n",
              "      <td>25.000000</td>\n",
              "    </tr>\n",
              "  </tbody>\n",
              "</table>\n",
              "<p>8 rows × 36 columns</p>\n",
              "</div>\n",
              "      <button class=\"colab-df-convert\" onclick=\"convertToInteractive('df-b7d014ce-d660-49d6-a00b-697dd3ffac5f')\"\n",
              "              title=\"Convert this dataframe to an interactive table.\"\n",
              "              style=\"display:none;\">\n",
              "        \n",
              "  <svg xmlns=\"http://www.w3.org/2000/svg\" height=\"24px\"viewBox=\"0 0 24 24\"\n",
              "       width=\"24px\">\n",
              "    <path d=\"M0 0h24v24H0V0z\" fill=\"none\"/>\n",
              "    <path d=\"M18.56 5.44l.94 2.06.94-2.06 2.06-.94-2.06-.94-.94-2.06-.94 2.06-2.06.94zm-11 1L8.5 8.5l.94-2.06 2.06-.94-2.06-.94L8.5 2.5l-.94 2.06-2.06.94zm10 10l.94 2.06.94-2.06 2.06-.94-2.06-.94-.94-2.06-.94 2.06-2.06.94z\"/><path d=\"M17.41 7.96l-1.37-1.37c-.4-.4-.92-.59-1.43-.59-.52 0-1.04.2-1.43.59L10.3 9.45l-7.72 7.72c-.78.78-.78 2.05 0 2.83L4 21.41c.39.39.9.59 1.41.59.51 0 1.02-.2 1.41-.59l7.78-7.78 2.81-2.81c.8-.78.8-2.07 0-2.86zM5.41 20L4 18.59l7.72-7.72 1.47 1.35L5.41 20z\"/>\n",
              "  </svg>\n",
              "      </button>\n",
              "      \n",
              "  <style>\n",
              "    .colab-df-container {\n",
              "      display:flex;\n",
              "      flex-wrap:wrap;\n",
              "      gap: 12px;\n",
              "    }\n",
              "\n",
              "    .colab-df-convert {\n",
              "      background-color: #E8F0FE;\n",
              "      border: none;\n",
              "      border-radius: 50%;\n",
              "      cursor: pointer;\n",
              "      display: none;\n",
              "      fill: #1967D2;\n",
              "      height: 32px;\n",
              "      padding: 0 0 0 0;\n",
              "      width: 32px;\n",
              "    }\n",
              "\n",
              "    .colab-df-convert:hover {\n",
              "      background-color: #E2EBFA;\n",
              "      box-shadow: 0px 1px 2px rgba(60, 64, 67, 0.3), 0px 1px 3px 1px rgba(60, 64, 67, 0.15);\n",
              "      fill: #174EA6;\n",
              "    }\n",
              "\n",
              "    [theme=dark] .colab-df-convert {\n",
              "      background-color: #3B4455;\n",
              "      fill: #D2E3FC;\n",
              "    }\n",
              "\n",
              "    [theme=dark] .colab-df-convert:hover {\n",
              "      background-color: #434B5C;\n",
              "      box-shadow: 0px 1px 3px 1px rgba(0, 0, 0, 0.15);\n",
              "      filter: drop-shadow(0px 1px 2px rgba(0, 0, 0, 0.3));\n",
              "      fill: #FFFFFF;\n",
              "    }\n",
              "  </style>\n",
              "\n",
              "      <script>\n",
              "        const buttonEl =\n",
              "          document.querySelector('#df-b7d014ce-d660-49d6-a00b-697dd3ffac5f button.colab-df-convert');\n",
              "        buttonEl.style.display =\n",
              "          google.colab.kernel.accessAllowed ? 'block' : 'none';\n",
              "\n",
              "        async function convertToInteractive(key) {\n",
              "          const element = document.querySelector('#df-b7d014ce-d660-49d6-a00b-697dd3ffac5f');\n",
              "          const dataTable =\n",
              "            await google.colab.kernel.invokeFunction('convertToInteractive',\n",
              "                                                     [key], {});\n",
              "          if (!dataTable) return;\n",
              "\n",
              "          const docLinkHtml = 'Like what you see? Visit the ' +\n",
              "            '<a target=\"_blank\" href=https://colab.research.google.com/notebooks/data_table.ipynb>data table notebook</a>'\n",
              "            + ' to learn more about interactive tables.';\n",
              "          element.innerHTML = '';\n",
              "          dataTable['output_type'] = 'display_data';\n",
              "          await google.colab.output.renderOutput(dataTable, element);\n",
              "          const docLink = document.createElement('div');\n",
              "          docLink.innerHTML = docLinkHtml;\n",
              "          element.appendChild(docLink);\n",
              "        }\n",
              "      </script>\n",
              "    </div>\n",
              "  </div>\n",
              "  "
            ]
          },
          "metadata": {},
          "execution_count": 50
        }
      ]
    },
    {
      "cell_type": "code",
      "metadata": {
        "colab": {
          "base_uri": "https://localhost:8080/"
        },
        "id": "9j4Uhc8yj02O",
        "outputId": "3f794a3d-feb4-434f-a10a-d370e28c4157"
      },
      "source": [
        "df_train.dtypes"
      ],
      "execution_count": 21,
      "outputs": [
        {
          "output_type": "execute_result",
          "data": {
            "text/plain": [
              "CustomerID                     int64\n",
              "Churn                         object\n",
              "MonthlyRevenue               float64\n",
              "MonthlyMinutes               float64\n",
              "TotalRecurringCharge         float64\n",
              "DirectorAssistedCalls        float64\n",
              "OverageMinutes               float64\n",
              "RoamingCalls                 float64\n",
              "PercChangeMinutes            float64\n",
              "PercChangeRevenues           float64\n",
              "DroppedCalls                 float64\n",
              "BlockedCalls                 float64\n",
              "UnansweredCalls              float64\n",
              "CustomerCareCalls            float64\n",
              "ThreewayCalls                float64\n",
              "ReceivedCalls                float64\n",
              "OutboundCalls                float64\n",
              "InboundCalls                 float64\n",
              "PeakCallsInOut               float64\n",
              "OffPeakCallsInOut            float64\n",
              "DroppedBlockedCalls          float64\n",
              "CallForwardingCalls          float64\n",
              "CallWaitingCalls             float64\n",
              "MonthsInService                int64\n",
              "UniqueSubs                     int64\n",
              "ActiveSubs                     int64\n",
              "ServiceArea                   object\n",
              "Handsets                     float64\n",
              "HandsetModels                float64\n",
              "CurrentEquipmentDays         float64\n",
              "AgeHH1                       float64\n",
              "AgeHH2                       float64\n",
              "ChildrenInHH                  object\n",
              "HandsetRefurbished            object\n",
              "HandsetWebCapable             object\n",
              "TruckOwner                    object\n",
              "RVOwner                       object\n",
              "Homeownership                 object\n",
              "BuysViaMailOrder              object\n",
              "RespondsToMailOffers          object\n",
              "OptOutMailings                object\n",
              "NonUSTravel                   object\n",
              "OwnsComputer                  object\n",
              "HasCreditCard                 object\n",
              "RetentionCalls                 int64\n",
              "RetentionOffersAccepted        int64\n",
              "NewCellphoneUser              object\n",
              "NotNewCellphoneUser           object\n",
              "ReferralsMadeBySubscriber      int64\n",
              "IncomeGroup                    int64\n",
              "OwnsMotorcycle                object\n",
              "AdjustmentsToCreditRating      int64\n",
              "HandsetPrice                  object\n",
              "MadeCallToRetentionTeam       object\n",
              "CreditRating                  object\n",
              "PrizmCode                     object\n",
              "Occupation                    object\n",
              "MaritalStatus                 object\n",
              "dtype: object"
            ]
          },
          "metadata": {},
          "execution_count": 21
        }
      ]
    },
    {
      "cell_type": "code",
      "metadata": {
        "id": "QCLnIcOckb2E"
      },
      "source": [],
      "execution_count": null,
      "outputs": []
    },
    {
      "cell_type": "code",
      "metadata": {
        "colab": {
          "base_uri": "https://localhost:8080/"
        },
        "id": "QOWQB48akgv6",
        "outputId": "d5752d16-36e8-4d6d-c250-eb408088058f"
      },
      "source": [
        "df_train.isnull().sum()"
      ],
      "execution_count": 23,
      "outputs": [
        {
          "output_type": "execute_result",
          "data": {
            "text/plain": [
              "CustomerID                     0\n",
              "Churn                          0\n",
              "MonthlyRevenue               156\n",
              "MonthlyMinutes               156\n",
              "TotalRecurringCharge         156\n",
              "DirectorAssistedCalls        156\n",
              "OverageMinutes               156\n",
              "RoamingCalls                 156\n",
              "PercChangeMinutes            367\n",
              "PercChangeRevenues           367\n",
              "DroppedCalls                   0\n",
              "BlockedCalls                   0\n",
              "UnansweredCalls                0\n",
              "CustomerCareCalls              0\n",
              "ThreewayCalls                  0\n",
              "ReceivedCalls                  0\n",
              "OutboundCalls                  0\n",
              "InboundCalls                   0\n",
              "PeakCallsInOut                 0\n",
              "OffPeakCallsInOut              0\n",
              "DroppedBlockedCalls            0\n",
              "CallForwardingCalls            0\n",
              "CallWaitingCalls               0\n",
              "MonthsInService                0\n",
              "UniqueSubs                     0\n",
              "ActiveSubs                     0\n",
              "ServiceArea                   24\n",
              "Handsets                       1\n",
              "HandsetModels                  1\n",
              "CurrentEquipmentDays           1\n",
              "AgeHH1                       909\n",
              "AgeHH2                       909\n",
              "ChildrenInHH                   0\n",
              "HandsetRefurbished             0\n",
              "HandsetWebCapable              0\n",
              "TruckOwner                     0\n",
              "RVOwner                        0\n",
              "Homeownership                  0\n",
              "BuysViaMailOrder               0\n",
              "RespondsToMailOffers           0\n",
              "OptOutMailings                 0\n",
              "NonUSTravel                    0\n",
              "OwnsComputer                   0\n",
              "HasCreditCard                  0\n",
              "RetentionCalls                 0\n",
              "RetentionOffersAccepted        0\n",
              "NewCellphoneUser               0\n",
              "NotNewCellphoneUser            0\n",
              "ReferralsMadeBySubscriber      0\n",
              "IncomeGroup                    0\n",
              "OwnsMotorcycle                 0\n",
              "AdjustmentsToCreditRating      0\n",
              "HandsetPrice                   0\n",
              "MadeCallToRetentionTeam        0\n",
              "CreditRating                   0\n",
              "PrizmCode                      0\n",
              "Occupation                     0\n",
              "MaritalStatus                  0\n",
              "dtype: int64"
            ]
          },
          "metadata": {},
          "execution_count": 23
        }
      ]
    },
    {
      "cell_type": "code",
      "source": [
        "df_train.dropna(inplace = True)"
      ],
      "metadata": {
        "id": "_XbPqtINTkBa"
      },
      "execution_count": 24,
      "outputs": []
    },
    {
      "cell_type": "code",
      "metadata": {
        "colab": {
          "base_uri": "https://localhost:8080/"
        },
        "id": "WCFQjv5qkmVB",
        "outputId": "f5df6b83-a097-4774-e451-ccda4d768c8b"
      },
      "source": [
        "df_train.isnull().sum()"
      ],
      "execution_count": 25,
      "outputs": [
        {
          "output_type": "execute_result",
          "data": {
            "text/plain": [
              "CustomerID                   0\n",
              "Churn                        0\n",
              "MonthlyRevenue               0\n",
              "MonthlyMinutes               0\n",
              "TotalRecurringCharge         0\n",
              "DirectorAssistedCalls        0\n",
              "OverageMinutes               0\n",
              "RoamingCalls                 0\n",
              "PercChangeMinutes            0\n",
              "PercChangeRevenues           0\n",
              "DroppedCalls                 0\n",
              "BlockedCalls                 0\n",
              "UnansweredCalls              0\n",
              "CustomerCareCalls            0\n",
              "ThreewayCalls                0\n",
              "ReceivedCalls                0\n",
              "OutboundCalls                0\n",
              "InboundCalls                 0\n",
              "PeakCallsInOut               0\n",
              "OffPeakCallsInOut            0\n",
              "DroppedBlockedCalls          0\n",
              "CallForwardingCalls          0\n",
              "CallWaitingCalls             0\n",
              "MonthsInService              0\n",
              "UniqueSubs                   0\n",
              "ActiveSubs                   0\n",
              "ServiceArea                  0\n",
              "Handsets                     0\n",
              "HandsetModels                0\n",
              "CurrentEquipmentDays         0\n",
              "AgeHH1                       0\n",
              "AgeHH2                       0\n",
              "ChildrenInHH                 0\n",
              "HandsetRefurbished           0\n",
              "HandsetWebCapable            0\n",
              "TruckOwner                   0\n",
              "RVOwner                      0\n",
              "Homeownership                0\n",
              "BuysViaMailOrder             0\n",
              "RespondsToMailOffers         0\n",
              "OptOutMailings               0\n",
              "NonUSTravel                  0\n",
              "OwnsComputer                 0\n",
              "HasCreditCard                0\n",
              "RetentionCalls               0\n",
              "RetentionOffersAccepted      0\n",
              "NewCellphoneUser             0\n",
              "NotNewCellphoneUser          0\n",
              "ReferralsMadeBySubscriber    0\n",
              "IncomeGroup                  0\n",
              "OwnsMotorcycle               0\n",
              "AdjustmentsToCreditRating    0\n",
              "HandsetPrice                 0\n",
              "MadeCallToRetentionTeam      0\n",
              "CreditRating                 0\n",
              "PrizmCode                    0\n",
              "Occupation                   0\n",
              "MaritalStatus                0\n",
              "dtype: int64"
            ]
          },
          "metadata": {},
          "execution_count": 25
        }
      ]
    },
    {
      "cell_type": "code",
      "metadata": {
        "colab": {
          "base_uri": "https://localhost:8080/",
          "height": 143
        },
        "id": "eSRs8NVhkzpL",
        "outputId": "58127c7a-4fe0-4e5c-b93d-e7879bfcc6f9"
      },
      "source": [
        "pd.crosstab(df_train.Churn,df_train.MaritalStatus).apply(lambda r: r/len(df_train.Churn), axis=1)*100"
      ],
      "execution_count": 49,
      "outputs": [
        {
          "output_type": "execute_result",
          "data": {
            "text/plain": [
              "MaritalStatus         No    Unknown        Yes\n",
              "Churn                                         \n",
              "0              18.523878  26.197942  26.646165\n",
              "1               6.795707  11.285978  10.550330"
            ],
            "text/html": [
              "\n",
              "  <div id=\"df-d7f11dd5-32fe-4668-88a7-f15b975903af\">\n",
              "    <div class=\"colab-df-container\">\n",
              "      <div>\n",
              "<style scoped>\n",
              "    .dataframe tbody tr th:only-of-type {\n",
              "        vertical-align: middle;\n",
              "    }\n",
              "\n",
              "    .dataframe tbody tr th {\n",
              "        vertical-align: top;\n",
              "    }\n",
              "\n",
              "    .dataframe thead th {\n",
              "        text-align: right;\n",
              "    }\n",
              "</style>\n",
              "<table border=\"1\" class=\"dataframe\">\n",
              "  <thead>\n",
              "    <tr style=\"text-align: right;\">\n",
              "      <th>MaritalStatus</th>\n",
              "      <th>No</th>\n",
              "      <th>Unknown</th>\n",
              "      <th>Yes</th>\n",
              "    </tr>\n",
              "    <tr>\n",
              "      <th>Churn</th>\n",
              "      <th></th>\n",
              "      <th></th>\n",
              "      <th></th>\n",
              "    </tr>\n",
              "  </thead>\n",
              "  <tbody>\n",
              "    <tr>\n",
              "      <th>0</th>\n",
              "      <td>18.523878</td>\n",
              "      <td>26.197942</td>\n",
              "      <td>26.646165</td>\n",
              "    </tr>\n",
              "    <tr>\n",
              "      <th>1</th>\n",
              "      <td>6.795707</td>\n",
              "      <td>11.285978</td>\n",
              "      <td>10.550330</td>\n",
              "    </tr>\n",
              "  </tbody>\n",
              "</table>\n",
              "</div>\n",
              "      <button class=\"colab-df-convert\" onclick=\"convertToInteractive('df-d7f11dd5-32fe-4668-88a7-f15b975903af')\"\n",
              "              title=\"Convert this dataframe to an interactive table.\"\n",
              "              style=\"display:none;\">\n",
              "        \n",
              "  <svg xmlns=\"http://www.w3.org/2000/svg\" height=\"24px\"viewBox=\"0 0 24 24\"\n",
              "       width=\"24px\">\n",
              "    <path d=\"M0 0h24v24H0V0z\" fill=\"none\"/>\n",
              "    <path d=\"M18.56 5.44l.94 2.06.94-2.06 2.06-.94-2.06-.94-.94-2.06-.94 2.06-2.06.94zm-11 1L8.5 8.5l.94-2.06 2.06-.94-2.06-.94L8.5 2.5l-.94 2.06-2.06.94zm10 10l.94 2.06.94-2.06 2.06-.94-2.06-.94-.94-2.06-.94 2.06-2.06.94z\"/><path d=\"M17.41 7.96l-1.37-1.37c-.4-.4-.92-.59-1.43-.59-.52 0-1.04.2-1.43.59L10.3 9.45l-7.72 7.72c-.78.78-.78 2.05 0 2.83L4 21.41c.39.39.9.59 1.41.59.51 0 1.02-.2 1.41-.59l7.78-7.78 2.81-2.81c.8-.78.8-2.07 0-2.86zM5.41 20L4 18.59l7.72-7.72 1.47 1.35L5.41 20z\"/>\n",
              "  </svg>\n",
              "      </button>\n",
              "      \n",
              "  <style>\n",
              "    .colab-df-container {\n",
              "      display:flex;\n",
              "      flex-wrap:wrap;\n",
              "      gap: 12px;\n",
              "    }\n",
              "\n",
              "    .colab-df-convert {\n",
              "      background-color: #E8F0FE;\n",
              "      border: none;\n",
              "      border-radius: 50%;\n",
              "      cursor: pointer;\n",
              "      display: none;\n",
              "      fill: #1967D2;\n",
              "      height: 32px;\n",
              "      padding: 0 0 0 0;\n",
              "      width: 32px;\n",
              "    }\n",
              "\n",
              "    .colab-df-convert:hover {\n",
              "      background-color: #E2EBFA;\n",
              "      box-shadow: 0px 1px 2px rgba(60, 64, 67, 0.3), 0px 1px 3px 1px rgba(60, 64, 67, 0.15);\n",
              "      fill: #174EA6;\n",
              "    }\n",
              "\n",
              "    [theme=dark] .colab-df-convert {\n",
              "      background-color: #3B4455;\n",
              "      fill: #D2E3FC;\n",
              "    }\n",
              "\n",
              "    [theme=dark] .colab-df-convert:hover {\n",
              "      background-color: #434B5C;\n",
              "      box-shadow: 0px 1px 3px 1px rgba(0, 0, 0, 0.15);\n",
              "      filter: drop-shadow(0px 1px 2px rgba(0, 0, 0, 0.3));\n",
              "      fill: #FFFFFF;\n",
              "    }\n",
              "  </style>\n",
              "\n",
              "      <script>\n",
              "        const buttonEl =\n",
              "          document.querySelector('#df-d7f11dd5-32fe-4668-88a7-f15b975903af button.colab-df-convert');\n",
              "        buttonEl.style.display =\n",
              "          google.colab.kernel.accessAllowed ? 'block' : 'none';\n",
              "\n",
              "        async function convertToInteractive(key) {\n",
              "          const element = document.querySelector('#df-d7f11dd5-32fe-4668-88a7-f15b975903af');\n",
              "          const dataTable =\n",
              "            await google.colab.kernel.invokeFunction('convertToInteractive',\n",
              "                                                     [key], {});\n",
              "          if (!dataTable) return;\n",
              "\n",
              "          const docLinkHtml = 'Like what you see? Visit the ' +\n",
              "            '<a target=\"_blank\" href=https://colab.research.google.com/notebooks/data_table.ipynb>data table notebook</a>'\n",
              "            + ' to learn more about interactive tables.';\n",
              "          element.innerHTML = '';\n",
              "          dataTable['output_type'] = 'display_data';\n",
              "          await google.colab.output.renderOutput(dataTable, element);\n",
              "          const docLink = document.createElement('div');\n",
              "          docLink.innerHTML = docLinkHtml;\n",
              "          element.appendChild(docLink);\n",
              "        }\n",
              "      </script>\n",
              "    </div>\n",
              "  </div>\n",
              "  "
            ]
          },
          "metadata": {},
          "execution_count": 49
        }
      ]
    },
    {
      "cell_type": "code",
      "source": [
        "df_train[['MonthlyRevenue','Churn']].groupby('Churn').mean()"
      ],
      "metadata": {
        "colab": {
          "base_uri": "https://localhost:8080/",
          "height": 81
        },
        "id": "pkcvNnyE4vnr",
        "outputId": "1f9916f4-f4d7-413e-ad15-5e40ea57201a"
      },
      "execution_count": 95,
      "outputs": [
        {
          "output_type": "execute_result",
          "data": {
            "text/plain": [
              "Empty DataFrame\n",
              "Columns: [MonthlyRevenue]\n",
              "Index: []"
            ],
            "text/html": [
              "\n",
              "  <div id=\"df-c0956d1d-f382-4dbe-bb25-8484d790c43a\">\n",
              "    <div class=\"colab-df-container\">\n",
              "      <div>\n",
              "<style scoped>\n",
              "    .dataframe tbody tr th:only-of-type {\n",
              "        vertical-align: middle;\n",
              "    }\n",
              "\n",
              "    .dataframe tbody tr th {\n",
              "        vertical-align: top;\n",
              "    }\n",
              "\n",
              "    .dataframe thead th {\n",
              "        text-align: right;\n",
              "    }\n",
              "</style>\n",
              "<table border=\"1\" class=\"dataframe\">\n",
              "  <thead>\n",
              "    <tr style=\"text-align: right;\">\n",
              "      <th></th>\n",
              "      <th>MonthlyRevenue</th>\n",
              "    </tr>\n",
              "    <tr>\n",
              "      <th>Churn</th>\n",
              "      <th></th>\n",
              "    </tr>\n",
              "  </thead>\n",
              "  <tbody>\n",
              "  </tbody>\n",
              "</table>\n",
              "</div>\n",
              "      <button class=\"colab-df-convert\" onclick=\"convertToInteractive('df-c0956d1d-f382-4dbe-bb25-8484d790c43a')\"\n",
              "              title=\"Convert this dataframe to an interactive table.\"\n",
              "              style=\"display:none;\">\n",
              "        \n",
              "  <svg xmlns=\"http://www.w3.org/2000/svg\" height=\"24px\"viewBox=\"0 0 24 24\"\n",
              "       width=\"24px\">\n",
              "    <path d=\"M0 0h24v24H0V0z\" fill=\"none\"/>\n",
              "    <path d=\"M18.56 5.44l.94 2.06.94-2.06 2.06-.94-2.06-.94-.94-2.06-.94 2.06-2.06.94zm-11 1L8.5 8.5l.94-2.06 2.06-.94-2.06-.94L8.5 2.5l-.94 2.06-2.06.94zm10 10l.94 2.06.94-2.06 2.06-.94-2.06-.94-.94-2.06-.94 2.06-2.06.94z\"/><path d=\"M17.41 7.96l-1.37-1.37c-.4-.4-.92-.59-1.43-.59-.52 0-1.04.2-1.43.59L10.3 9.45l-7.72 7.72c-.78.78-.78 2.05 0 2.83L4 21.41c.39.39.9.59 1.41.59.51 0 1.02-.2 1.41-.59l7.78-7.78 2.81-2.81c.8-.78.8-2.07 0-2.86zM5.41 20L4 18.59l7.72-7.72 1.47 1.35L5.41 20z\"/>\n",
              "  </svg>\n",
              "      </button>\n",
              "      \n",
              "  <style>\n",
              "    .colab-df-container {\n",
              "      display:flex;\n",
              "      flex-wrap:wrap;\n",
              "      gap: 12px;\n",
              "    }\n",
              "\n",
              "    .colab-df-convert {\n",
              "      background-color: #E8F0FE;\n",
              "      border: none;\n",
              "      border-radius: 50%;\n",
              "      cursor: pointer;\n",
              "      display: none;\n",
              "      fill: #1967D2;\n",
              "      height: 32px;\n",
              "      padding: 0 0 0 0;\n",
              "      width: 32px;\n",
              "    }\n",
              "\n",
              "    .colab-df-convert:hover {\n",
              "      background-color: #E2EBFA;\n",
              "      box-shadow: 0px 1px 2px rgba(60, 64, 67, 0.3), 0px 1px 3px 1px rgba(60, 64, 67, 0.15);\n",
              "      fill: #174EA6;\n",
              "    }\n",
              "\n",
              "    [theme=dark] .colab-df-convert {\n",
              "      background-color: #3B4455;\n",
              "      fill: #D2E3FC;\n",
              "    }\n",
              "\n",
              "    [theme=dark] .colab-df-convert:hover {\n",
              "      background-color: #434B5C;\n",
              "      box-shadow: 0px 1px 3px 1px rgba(0, 0, 0, 0.15);\n",
              "      filter: drop-shadow(0px 1px 2px rgba(0, 0, 0, 0.3));\n",
              "      fill: #FFFFFF;\n",
              "    }\n",
              "  </style>\n",
              "\n",
              "      <script>\n",
              "        const buttonEl =\n",
              "          document.querySelector('#df-c0956d1d-f382-4dbe-bb25-8484d790c43a button.colab-df-convert');\n",
              "        buttonEl.style.display =\n",
              "          google.colab.kernel.accessAllowed ? 'block' : 'none';\n",
              "\n",
              "        async function convertToInteractive(key) {\n",
              "          const element = document.querySelector('#df-c0956d1d-f382-4dbe-bb25-8484d790c43a');\n",
              "          const dataTable =\n",
              "            await google.colab.kernel.invokeFunction('convertToInteractive',\n",
              "                                                     [key], {});\n",
              "          if (!dataTable) return;\n",
              "\n",
              "          const docLinkHtml = 'Like what you see? Visit the ' +\n",
              "            '<a target=\"_blank\" href=https://colab.research.google.com/notebooks/data_table.ipynb>data table notebook</a>'\n",
              "            + ' to learn more about interactive tables.';\n",
              "          element.innerHTML = '';\n",
              "          dataTable['output_type'] = 'display_data';\n",
              "          await google.colab.output.renderOutput(dataTable, element);\n",
              "          const docLink = document.createElement('div');\n",
              "          docLink.innerHTML = docLinkHtml;\n",
              "          element.appendChild(docLink);\n",
              "        }\n",
              "      </script>\n",
              "    </div>\n",
              "  </div>\n",
              "  "
            ]
          },
          "metadata": {},
          "execution_count": 95
        }
      ]
    },
    {
      "cell_type": "code",
      "source": [
        "df_train['Churn'] = df_train['Churn'].map({'Yes': 1, 'No': 0})"
      ],
      "metadata": {
        "id": "GHszmSslkWC2"
      },
      "execution_count": 60,
      "outputs": []
    },
    {
      "cell_type": "code",
      "source": [
        "churn= df_train.groupby('MaritalStatus')['Churn'].count()\n",
        "churn.head(10)"
      ],
      "metadata": {
        "colab": {
          "base_uri": "https://localhost:8080/"
        },
        "id": "ZrVa_277knxQ",
        "outputId": "868e978a-24ec-4d21-e16e-f92cfdc6f6b7"
      },
      "execution_count": 87,
      "outputs": [
        {
          "output_type": "execute_result",
          "data": {
            "text/plain": [
              "MaritalStatus\n",
              "No         0\n",
              "Unknown    0\n",
              "Yes        0\n",
              "Name: Churn, dtype: int64"
            ]
          },
          "metadata": {},
          "execution_count": 87
        }
      ]
    },
    {
      "cell_type": "code",
      "metadata": {
        "colab": {
          "base_uri": "https://localhost:8080/",
          "height": 410
        },
        "id": "QhKcblsMlZhT",
        "outputId": "468470d4-233d-4a17-c57e-1f86ea2710c3"
      },
      "source": [
        "df_train.corr()['Churn'].sort_values(ascending = False).plot(kind='bar')"
      ],
      "execution_count": 58,
      "outputs": [
        {
          "output_type": "execute_result",
          "data": {
            "text/plain": [
              "<matplotlib.axes._subplots.AxesSubplot at 0x7f69a48f0c90>"
            ]
          },
          "metadata": {},
          "execution_count": 58
        },
        {
          "output_type": "display_data",
          "data": {
            "text/plain": [
              "<Figure size 432x288 with 1 Axes>"
            ],
            "image/png": "[encoded data removed]"
          },
          "metadata": {
            "needs_background": "light"
          }
        }
      ]
    },
    {
      "cell_type": "code",
      "metadata": {
        "colab": {
          "base_uri": "https://localhost:8080/",
          "height": 345
        },
        "id": "XjjDLEPWliU_",
        "outputId": "1919c346-7964-4d58-bde8-f796bdc9c1b5"
      },
      "source": [
        "import seaborn as sn\n",
        "df_corr =df.corr()\n",
        "df_corr\n",
        "sn.heatmap(df_train, annot=True)"
      ],
      "execution_count": 59,
      "outputs": [
        {
          "output_type": "error",
          "ename": "ValueError",
          "evalue": "ignored",
          "traceback": [
            "\u001b[0;31m---------------------------------------------------------------------------\u001b[0m",
            "\u001b[0;31mValueError\u001b[0m                                Traceback (most recent call last)",
            "\u001b[0;32m<ipython-input-59-50bdac364c82>\u001b[0m in \u001b[0;36m<module>\u001b[0;34m\u001b[0m\n\u001b[1;32m      2\u001b[0m \u001b[0mdf_corr\u001b[0m \u001b[0;34m=\u001b[0m\u001b[0mdf\u001b[0m\u001b[0;34m.\u001b[0m\u001b[0mcorr\u001b[0m\u001b[0;34m(\u001b[0m\u001b[0;34m)\u001b[0m\u001b[0;34m\u001b[0m\u001b[0;34m\u001b[0m\u001b[0m\n\u001b[1;32m      3\u001b[0m \u001b[0mdf_corr\u001b[0m\u001b[0;34m\u001b[0m\u001b[0;34m\u001b[0m\u001b[0m\n\u001b[0;32m----> 4\u001b[0;31m \u001b[0msn\u001b[0m\u001b[0;34m.\u001b[0m\u001b[0mheatmap\u001b[0m\u001b[0;34m(\u001b[0m\u001b[0mdf_train\u001b[0m\u001b[0;34m,\u001b[0m \u001b[0mannot\u001b[0m\u001b[0;34m=\u001b[0m\u001b[0;32mTrue\u001b[0m\u001b[0;34m)\u001b[0m\u001b[0;34m\u001b[0m\u001b[0;34m\u001b[0m\u001b[0m\n\u001b[0m",
            "\u001b[0;32m/usr/local/lib/python3.7/dist-packages/seaborn/_decorators.py\u001b[0m in \u001b[0;36minner_f\u001b[0;34m(*args, **kwargs)\u001b[0m\n\u001b[1;32m     44\u001b[0m             )\n\u001b[1;32m     45\u001b[0m         \u001b[0mkwargs\u001b[0m\u001b[0;34m.\u001b[0m\u001b[0mupdate\u001b[0m\u001b[0;34m(\u001b[0m\u001b[0;34m{\u001b[0m\u001b[0mk\u001b[0m\u001b[0;34m:\u001b[0m \u001b[0marg\u001b[0m \u001b[0;32mfor\u001b[0m \u001b[0mk\u001b[0m\u001b[0;34m,\u001b[0m \u001b[0marg\u001b[0m \u001b[0;32min\u001b[0m \u001b[0mzip\u001b[0m\u001b[0;34m(\u001b[0m\u001b[0msig\u001b[0m\u001b[0;34m.\u001b[0m\u001b[0mparameters\u001b[0m\u001b[0;34m,\u001b[0m \u001b[0margs\u001b[0m\u001b[0;34m)\u001b[0m\u001b[0;34m}\u001b[0m\u001b[0;34m)\u001b[0m\u001b[0;34m\u001b[0m\u001b[0;34m\u001b[0m\u001b[0m\n\u001b[0;32m---> 46\u001b[0;31m         \u001b[0;32mreturn\u001b[0m \u001b[0mf\u001b[0m\u001b[0;34m(\u001b[0m\u001b[0;34m**\u001b[0m\u001b[0mkwargs\u001b[0m\u001b[0;34m)\u001b[0m\u001b[0;34m\u001b[0m\u001b[0;34m\u001b[0m\u001b[0m\n\u001b[0m\u001b[1;32m     47\u001b[0m     \u001b[0;32mreturn\u001b[0m \u001b[0minner_f\u001b[0m\u001b[0;34m\u001b[0m\u001b[0;34m\u001b[0m\u001b[0m\n\u001b[1;32m     48\u001b[0m \u001b[0;34m\u001b[0m\u001b[0m\n",
            "\u001b[0;32m/usr/local/lib/python3.7/dist-packages/seaborn/matrix.py\u001b[0m in \u001b[0;36mheatmap\u001b[0;34m(data, vmin, vmax, cmap, center, robust, annot, fmt, annot_kws, linewidths, linecolor, cbar, cbar_kws, cbar_ax, square, xticklabels, yticklabels, mask, ax, **kwargs)\u001b[0m\n\u001b[1;32m    540\u001b[0m     plotter = _HeatMapper(data, vmin, vmax, cmap, center, robust, annot, fmt,\n\u001b[1;32m    541\u001b[0m                           \u001b[0mannot_kws\u001b[0m\u001b[0;34m,\u001b[0m \u001b[0mcbar\u001b[0m\u001b[0;34m,\u001b[0m \u001b[0mcbar_kws\u001b[0m\u001b[0;34m,\u001b[0m \u001b[0mxticklabels\u001b[0m\u001b[0;34m,\u001b[0m\u001b[0;34m\u001b[0m\u001b[0;34m\u001b[0m\u001b[0m\n\u001b[0;32m--> 542\u001b[0;31m                           yticklabels, mask)\n\u001b[0m\u001b[1;32m    543\u001b[0m \u001b[0;34m\u001b[0m\u001b[0m\n\u001b[1;32m    544\u001b[0m     \u001b[0;31m# Add the pcolormesh kwargs here\u001b[0m\u001b[0;34m\u001b[0m\u001b[0;34m\u001b[0m\u001b[0;34m\u001b[0m\u001b[0m\n",
            "\u001b[0;32m/usr/local/lib/python3.7/dist-packages/seaborn/matrix.py\u001b[0m in \u001b[0;36m__init__\u001b[0;34m(self, data, vmin, vmax, cmap, center, robust, annot, fmt, annot_kws, cbar, cbar_kws, xticklabels, yticklabels, mask)\u001b[0m\n\u001b[1;32m    158\u001b[0m         \u001b[0;31m# Determine good default values for the colormapping\u001b[0m\u001b[0;34m\u001b[0m\u001b[0;34m\u001b[0m\u001b[0;34m\u001b[0m\u001b[0m\n\u001b[1;32m    159\u001b[0m         self._determine_cmap_params(plot_data, vmin, vmax,\n\u001b[0;32m--> 160\u001b[0;31m                                     cmap, center, robust)\n\u001b[0m\u001b[1;32m    161\u001b[0m \u001b[0;34m\u001b[0m\u001b[0m\n\u001b[1;32m    162\u001b[0m         \u001b[0;31m# Sort out the annotations\u001b[0m\u001b[0;34m\u001b[0m\u001b[0;34m\u001b[0m\u001b[0;34m\u001b[0m\u001b[0m\n",
            "\u001b[0;32m/usr/local/lib/python3.7/dist-packages/seaborn/matrix.py\u001b[0m in \u001b[0;36m_determine_cmap_params\u001b[0;34m(self, plot_data, vmin, vmax, cmap, center, robust)\u001b[0m\n\u001b[1;32m    191\u001b[0m \u001b[0;34m\u001b[0m\u001b[0m\n\u001b[1;32m    192\u001b[0m         \u001b[0;31m# plot_data is a np.ma.array instance\u001b[0m\u001b[0;34m\u001b[0m\u001b[0;34m\u001b[0m\u001b[0;34m\u001b[0m\u001b[0m\n\u001b[0;32m--> 193\u001b[0;31m         \u001b[0mcalc_data\u001b[0m \u001b[0;34m=\u001b[0m \u001b[0mplot_data\u001b[0m\u001b[0;34m.\u001b[0m\u001b[0mastype\u001b[0m\u001b[0;34m(\u001b[0m\u001b[0mfloat\u001b[0m\u001b[0;34m)\u001b[0m\u001b[0;34m.\u001b[0m\u001b[0mfilled\u001b[0m\u001b[0;34m(\u001b[0m\u001b[0mnp\u001b[0m\u001b[0;34m.\u001b[0m\u001b[0mnan\u001b[0m\u001b[0;34m)\u001b[0m\u001b[0;34m\u001b[0m\u001b[0;34m\u001b[0m\u001b[0m\n\u001b[0m\u001b[1;32m    194\u001b[0m         \u001b[0;32mif\u001b[0m \u001b[0mvmin\u001b[0m \u001b[0;32mis\u001b[0m \u001b[0;32mNone\u001b[0m\u001b[0;34m:\u001b[0m\u001b[0;34m\u001b[0m\u001b[0;34m\u001b[0m\u001b[0m\n\u001b[1;32m    195\u001b[0m             \u001b[0;32mif\u001b[0m \u001b[0mrobust\u001b[0m\u001b[0;34m:\u001b[0m\u001b[0;34m\u001b[0m\u001b[0;34m\u001b[0m\u001b[0m\n",
            "\u001b[0;31mValueError\u001b[0m: could not convert string to float: 'SEAPOR503'"
          ]
        }
      ]
    },
    {
      "cell_type": "code",
      "metadata": {
        "id": "IxFFGtGTl7yP"
      },
      "source": [
        "df['churn'].replace(to_replace=\"Yes\", value = 1, inplace = True)\n",
        "df['churn'].replace(to_replace=\"No\", value = 0, inplace = True)"
      ],
      "execution_count": null,
      "outputs": []
    },
    {
      "cell_type": "code",
      "metadata": {
        "colab": {
          "base_uri": "https://localhost:8080/",
          "height": 180
        },
        "id": "ReHDdgHieIg5",
        "outputId": "f7168ca7-155d-4674-c2a3-aa25968dcedd"
      },
      "source": [
        "df_Dummies = pd.get_dummies(df)\n",
        "df_Dummies.head()"
      ],
      "execution_count": null,
      "outputs": [
        {
          "output_type": "error",
          "ename": "NameError",
          "evalue": "ignored",
          "traceback": [
            "\u001b[0;31m---------------------------------------------------------------------------\u001b[0m",
            "\u001b[0;31mNameError\u001b[0m                                 Traceback (most recent call last)",
            "\u001b[0;32m<ipython-input-2-5190d1477486>\u001b[0m in \u001b[0;36m<module>\u001b[0;34m()\u001b[0m\n\u001b[0;32m----> 1\u001b[0;31m \u001b[0mdf_Dummies\u001b[0m \u001b[0;34m=\u001b[0m \u001b[0mpd\u001b[0m\u001b[0;34m.\u001b[0m\u001b[0mget_dummies\u001b[0m\u001b[0;34m(\u001b[0m\u001b[0mdf\u001b[0m\u001b[0;34m)\u001b[0m\u001b[0;34m\u001b[0m\u001b[0;34m\u001b[0m\u001b[0m\n\u001b[0m\u001b[1;32m      2\u001b[0m \u001b[0mdf_Dummies\u001b[0m\u001b[0;34m.\u001b[0m\u001b[0mhead\u001b[0m\u001b[0;34m(\u001b[0m\u001b[0;34m)\u001b[0m\u001b[0;34m\u001b[0m\u001b[0;34m\u001b[0m\u001b[0m\n",
            "\u001b[0;31mNameError\u001b[0m: name 'pd' is not defined"
          ]
        }
      ]
    },
    {
      "cell_type": "code",
      "metadata": {
        "colab": {
          "base_uri": "https://localhost:8080/",
          "height": 285
        },
        "id": "SFyaP3JSmN2q",
        "outputId": "01e61f25-ef4d-4167-8a4a-a766d5e498a8"
      },
      "source": [
        "from statsmodels.stats.outliers_influence import variance_inflation_factor\n",
        "x = df_Dummies.drop(['churn','MeanMonthlyUsage'], axis =1 )\n",
        "y = df_Dummies.churn\n",
        "vif_df[\"VIF\"] = [variance_inflation_factor(x.values,i) for i in range(len(x.columns))]\n",
        "vif_data2[\"features\"] = x.columns\n"
      ],
      "execution_count": null,
      "outputs": [
        {
          "output_type": "stream",
          "text": [
            "/usr/local/lib/python3.7/dist-packages/statsmodels/tools/_testing.py:19: FutureWarning: pandas.util.testing is deprecated. Use the functions in the public API at pandas.testing instead.\n",
            "  import pandas.util.testing as tm\n"
          ],
          "name": "stderr"
        },
        {
          "output_type": "error",
          "ename": "NameError",
          "evalue": "ignored",
          "traceback": [
            "\u001b[0;31m---------------------------------------------------------------------------\u001b[0m",
            "\u001b[0;31mNameError\u001b[0m                                 Traceback (most recent call last)",
            "\u001b[0;32m<ipython-input-1-9e7a384da71f>\u001b[0m in \u001b[0;36m<module>\u001b[0;34m()\u001b[0m\n\u001b[1;32m      1\u001b[0m \u001b[0;32mfrom\u001b[0m \u001b[0mstatsmodels\u001b[0m\u001b[0;34m.\u001b[0m\u001b[0mstats\u001b[0m\u001b[0;34m.\u001b[0m\u001b[0moutliers_influence\u001b[0m \u001b[0;32mimport\u001b[0m \u001b[0mvariance_inflation_factor\u001b[0m\u001b[0;34m\u001b[0m\u001b[0;34m\u001b[0m\u001b[0m\n\u001b[0;32m----> 2\u001b[0;31m \u001b[0mx\u001b[0m \u001b[0;34m=\u001b[0m \u001b[0mdf_Dummies\u001b[0m\u001b[0;34m.\u001b[0m\u001b[0mdrop\u001b[0m\u001b[0;34m(\u001b[0m\u001b[0;34m[\u001b[0m\u001b[0;34m'churn'\u001b[0m\u001b[0;34m,\u001b[0m\u001b[0;34m'MeanMonthlyUsage'\u001b[0m\u001b[0;34m]\u001b[0m\u001b[0;34m,\u001b[0m \u001b[0maxis\u001b[0m \u001b[0;34m=\u001b[0m\u001b[0;36m1\u001b[0m \u001b[0;34m)\u001b[0m\u001b[0;34m\u001b[0m\u001b[0;34m\u001b[0m\u001b[0m\n\u001b[0m\u001b[1;32m      3\u001b[0m \u001b[0my\u001b[0m \u001b[0;34m=\u001b[0m \u001b[0mdf_Dummies\u001b[0m\u001b[0;34m.\u001b[0m\u001b[0mchurn\u001b[0m\u001b[0;34m\u001b[0m\u001b[0;34m\u001b[0m\u001b[0m\n\u001b[1;32m      4\u001b[0m \u001b[0mvif_df\u001b[0m\u001b[0;34m[\u001b[0m\u001b[0;34m\"VIF\"\u001b[0m\u001b[0;34m]\u001b[0m \u001b[0;34m=\u001b[0m \u001b[0;34m[\u001b[0m\u001b[0mvariance_inflation_factor\u001b[0m\u001b[0;34m(\u001b[0m\u001b[0mx\u001b[0m\u001b[0;34m.\u001b[0m\u001b[0mvalues\u001b[0m\u001b[0;34m,\u001b[0m\u001b[0mi\u001b[0m\u001b[0;34m)\u001b[0m \u001b[0;32mfor\u001b[0m \u001b[0mi\u001b[0m \u001b[0;32min\u001b[0m \u001b[0mrange\u001b[0m\u001b[0;34m(\u001b[0m\u001b[0mlen\u001b[0m\u001b[0;34m(\u001b[0m\u001b[0mx\u001b[0m\u001b[0;34m.\u001b[0m\u001b[0mcolumns\u001b[0m\u001b[0;34m)\u001b[0m\u001b[0;34m)\u001b[0m\u001b[0;34m]\u001b[0m\u001b[0;34m\u001b[0m\u001b[0;34m\u001b[0m\u001b[0m\n\u001b[1;32m      5\u001b[0m \u001b[0mvif_data2\u001b[0m\u001b[0;34m[\u001b[0m\u001b[0;34m\"features\"\u001b[0m\u001b[0;34m]\u001b[0m \u001b[0;34m=\u001b[0m \u001b[0mx\u001b[0m\u001b[0;34m.\u001b[0m\u001b[0mcolumns\u001b[0m\u001b[0;34m\u001b[0m\u001b[0;34m\u001b[0m\u001b[0m\n",
            "\u001b[0;31mNameError\u001b[0m: name 'df_Dummies' is not defined"
          ]
        }
      ]
    }
  ]
}