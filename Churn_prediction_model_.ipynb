{
  "nbformat": 4,
  "nbformat_minor": 0,
  "metadata": {
    "colab": {
      "provenance": [],
      "collapsed_sections": [],
      "authorship_tag": "ABX9TyNKf8g1j5fgZFu2bwtSGVK1",
      "include_colab_link": true
    },
    "kernelspec": {
      "name": "python3",
      "display_name": "Python 3"
    },
    "language_info": {
      "name": "python"
    }
  },
  "cells": [
    {
      "cell_type": "markdown",
      "metadata": {
        "id": "view-in-github",
        "colab_type": "text"
      },
      "source": [
        "<a href=\"https://colab.research.google.com/github/vijayvaradh/Telco_churn-prediction/blob/main/Churn_prediction_model_.ipynb\" target=\"_parent\"><img src=\"https://colab.research.google.com/assets/colab-badge.svg\" alt=\"Open In Colab\"/></a>"
      ]
    },
    {
      "cell_type": "code",
      "metadata": {
        "id": "gEKcQVEwW4Tz"
      },
      "source": [
        "import pandas as pd\n",
        "import numpy as np\n",
        "import matplotlib.pyplot as plt\n",
        "import seaborn as sns"
      ],
      "execution_count": 2,
      "outputs": []
    },
    {
      "cell_type": "code",
      "source": [
        "url = 'https://github.com/vijayvaradh/Telco_churn-prediction'\n",
        "df_train = pd.read_csv('https://raw.githubusercontent.com/vijayvaradh/Telco_churn-prediction/main/cell2celltrain.csv')\n",
        "df_test = pd.read_csv('https://raw.githubusercontent.com/vijayvaradh/Telco_churn-prediction/main/cell2cellholdout.csv')"
      ],
      "metadata": {
        "id": "3nJsUa5tK-M_"
      },
      "execution_count": 17,
      "outputs": []
    },
    {
      "cell_type": "code",
      "source": [
        "df_train.shape"
      ],
      "metadata": {
        "colab": {
          "base_uri": "https://localhost:8080/"
        },
        "id": "LKyQK6JSL2Yc",
        "outputId": "c8f38715-d5fb-45fe-87fa-6a80b6041b0d"
      },
      "execution_count": 15,
      "outputs": [
        {
          "output_type": "execute_result",
          "data": {
            "text/plain": [
              "(51047, 58)"
            ]
          },
          "metadata": {},
          "execution_count": 15
        }
      ]
    },
    {
      "cell_type": "code",
      "source": [
        "df_test.shape"
      ],
      "metadata": {
        "colab": {
          "base_uri": "https://localhost:8080/"
        },
        "id": "gfWYuNARMdii",
        "outputId": "c12e6901-3573-4cba-9075-6b3df3599b19"
      },
      "execution_count": 18,
      "outputs": [
        {
          "output_type": "execute_result",
          "data": {
            "text/plain": [
              "(20000, 58)"
            ]
          },
          "metadata": {},
          "execution_count": 18
        }
      ]
    },
    {
      "cell_type": "code",
      "source": [
        "20000/(51047+20000)"
      ],
      "metadata": {
        "colab": {
          "base_uri": "https://localhost:8080/"
        },
        "id": "nT8pfl_tMhF6",
        "outputId": "a7dec44d-9dd2-4e9d-c4f9-c58f3a81a49e"
      },
      "execution_count": 19,
      "outputs": [
        {
          "output_type": "execute_result",
          "data": {
            "text/plain": [
              "0.28150379326361424"
            ]
          },
          "metadata": {},
          "execution_count": 19
        }
      ]
    },
    {
      "cell_type": "code",
      "metadata": {
        "colab": {
          "base_uri": "https://localhost:8080/",
          "height": 394
        },
        "id": "qebkJomXY0Mx",
        "outputId": "ef2ef3ec-0e29-492c-eb56-124106f745ae"
      },
      "source": [
        "df_train.describe()"
      ],
      "execution_count": 22,
      "outputs": [
        {
          "output_type": "execute_result",
          "data": {
            "text/plain": [
              "         CustomerID  MonthlyRevenue  MonthlyMinutes  TotalRecurringCharge  \\\n",
              "count  5.104700e+04    50891.000000    50891.000000          50891.000000   \n",
              "mean   3.201957e+06       58.834492      525.653416             46.830088   \n",
              "std    1.169056e+05       44.507336      529.871063             23.848871   \n",
              "min    3.000002e+06       -6.170000        0.000000            -11.000000   \n",
              "25%    3.100632e+06       33.610000      158.000000             30.000000   \n",
              "50%    3.201534e+06       48.460000      366.000000             45.000000   \n",
              "75%    3.305376e+06       71.065000      723.000000             60.000000   \n",
              "max    3.399994e+06     1223.380000     7359.000000            400.000000   \n",
              "\n",
              "       DirectorAssistedCalls  OverageMinutes  RoamingCalls  PercChangeMinutes  \\\n",
              "count           50891.000000    50891.000000  50891.000000       50680.000000   \n",
              "mean                0.895229       40.027785      1.236244         -11.547908   \n",
              "std                 2.228546       96.588076      9.818294         257.514772   \n",
              "min                 0.000000        0.000000      0.000000       -3875.000000   \n",
              "25%                 0.000000        0.000000      0.000000         -83.000000   \n",
              "50%                 0.250000        3.000000      0.000000          -5.000000   \n",
              "75%                 0.990000       41.000000      0.300000          66.000000   \n",
              "max               159.390000     4321.000000   1112.400000        5192.000000   \n",
              "\n",
              "       PercChangeRevenues  DroppedCalls  ...      Handsets  HandsetModels  \\\n",
              "count        50680.000000  51047.000000  ...  51046.000000   51046.000000   \n",
              "mean            -1.191985      6.011489  ...      1.805646       1.558751   \n",
              "std             39.574915      9.043955  ...      1.331173       0.905932   \n",
              "min          -1107.700000      0.000000  ...      1.000000       1.000000   \n",
              "25%             -7.100000      0.700000  ...      1.000000       1.000000   \n",
              "50%             -0.300000      3.000000  ...      1.000000       1.000000   \n",
              "75%              1.600000      7.700000  ...      2.000000       2.000000   \n",
              "max           2483.500000    221.700000  ...     24.000000      15.000000   \n",
              "\n",
              "       CurrentEquipmentDays        AgeHH1        AgeHH2  RetentionCalls  \\\n",
              "count          51046.000000  50138.000000  50138.000000    51047.000000   \n",
              "mean             380.545841     31.338127     21.144142        0.037201   \n",
              "std              253.801982     22.094635     23.931368        0.206483   \n",
              "min               -5.000000      0.000000      0.000000        0.000000   \n",
              "25%              205.000000      0.000000      0.000000        0.000000   \n",
              "50%              329.000000     36.000000      0.000000        0.000000   \n",
              "75%              515.000000     48.000000     42.000000        0.000000   \n",
              "max             1812.000000     99.000000     99.000000        4.000000   \n",
              "\n",
              "       RetentionOffersAccepted  ReferralsMadeBySubscriber   IncomeGroup  \\\n",
              "count             51047.000000               51047.000000  51047.000000   \n",
              "mean                  0.018277                   0.052070      4.324524   \n",
              "std                   0.142458                   0.307592      3.138236   \n",
              "min                   0.000000                   0.000000      0.000000   \n",
              "25%                   0.000000                   0.000000      0.000000   \n",
              "50%                   0.000000                   0.000000      5.000000   \n",
              "75%                   0.000000                   0.000000      7.000000   \n",
              "max                   3.000000                  35.000000      9.000000   \n",
              "\n",
              "       AdjustmentsToCreditRating  \n",
              "count               51047.000000  \n",
              "mean                    0.053911  \n",
              "std                     0.383147  \n",
              "min                     0.000000  \n",
              "25%                     0.000000  \n",
              "50%                     0.000000  \n",
              "75%                     0.000000  \n",
              "max                    25.000000  \n",
              "\n",
              "[8 rows x 35 columns]"
            ],
            "text/html": [
              "\n",
              "  <div id=\"df-822919c9-2ab0-4087-b439-c084aee4dc09\">\n",
              "    <div class=\"colab-df-container\">\n",
              "      <div>\n",
              "<style scoped>\n",
              "    .dataframe tbody tr th:only-of-type {\n",
              "        vertical-align: middle;\n",
              "    }\n",
              "\n",
              "    .dataframe tbody tr th {\n",
              "        vertical-align: top;\n",
              "    }\n",
              "\n",
              "    .dataframe thead th {\n",
              "        text-align: right;\n",
              "    }\n",
              "</style>\n",
              "<table border=\"1\" class=\"dataframe\">\n",
              "  <thead>\n",
              "    <tr style=\"text-align: right;\">\n",
              "      <th></th>\n",
              "      <th>CustomerID</th>\n",
              "      <th>MonthlyRevenue</th>\n",
              "      <th>MonthlyMinutes</th>\n",
              "      <th>TotalRecurringCharge</th>\n",
              "      <th>DirectorAssistedCalls</th>\n",
              "      <th>OverageMinutes</th>\n",
              "      <th>RoamingCalls</th>\n",
              "      <th>PercChangeMinutes</th>\n",
              "      <th>PercChangeRevenues</th>\n",
              "      <th>DroppedCalls</th>\n",
              "      <th>...</th>\n",
              "      <th>Handsets</th>\n",
              "      <th>HandsetModels</th>\n",
              "      <th>CurrentEquipmentDays</th>\n",
              "      <th>AgeHH1</th>\n",
              "      <th>AgeHH2</th>\n",
              "      <th>RetentionCalls</th>\n",
              "      <th>RetentionOffersAccepted</th>\n",
              "      <th>ReferralsMadeBySubscriber</th>\n",
              "      <th>IncomeGroup</th>\n",
              "      <th>AdjustmentsToCreditRating</th>\n",
              "    </tr>\n",
              "  </thead>\n",
              "  <tbody>\n",
              "    <tr>\n",
              "      <th>count</th>\n",
              "      <td>5.104700e+04</td>\n",
              "      <td>50891.000000</td>\n",
              "      <td>50891.000000</td>\n",
              "      <td>50891.000000</td>\n",
              "      <td>50891.000000</td>\n",
              "      <td>50891.000000</td>\n",
              "      <td>50891.000000</td>\n",
              "      <td>50680.000000</td>\n",
              "      <td>50680.000000</td>\n",
              "      <td>51047.000000</td>\n",
              "      <td>...</td>\n",
              "      <td>51046.000000</td>\n",
              "      <td>51046.000000</td>\n",
              "      <td>51046.000000</td>\n",
              "      <td>50138.000000</td>\n",
              "      <td>50138.000000</td>\n",
              "      <td>51047.000000</td>\n",
              "      <td>51047.000000</td>\n",
              "      <td>51047.000000</td>\n",
              "      <td>51047.000000</td>\n",
              "      <td>51047.000000</td>\n",
              "    </tr>\n",
              "    <tr>\n",
              "      <th>mean</th>\n",
              "      <td>3.201957e+06</td>\n",
              "      <td>58.834492</td>\n",
              "      <td>525.653416</td>\n",
              "      <td>46.830088</td>\n",
              "      <td>0.895229</td>\n",
              "      <td>40.027785</td>\n",
              "      <td>1.236244</td>\n",
              "      <td>-11.547908</td>\n",
              "      <td>-1.191985</td>\n",
              "      <td>6.011489</td>\n",
              "      <td>...</td>\n",
              "      <td>1.805646</td>\n",
              "      <td>1.558751</td>\n",
              "      <td>380.545841</td>\n",
              "      <td>31.338127</td>\n",
              "      <td>21.144142</td>\n",
              "      <td>0.037201</td>\n",
              "      <td>0.018277</td>\n",
              "      <td>0.052070</td>\n",
              "      <td>4.324524</td>\n",
              "      <td>0.053911</td>\n",
              "    </tr>\n",
              "    <tr>\n",
              "      <th>std</th>\n",
              "      <td>1.169056e+05</td>\n",
              "      <td>44.507336</td>\n",
              "      <td>529.871063</td>\n",
              "      <td>23.848871</td>\n",
              "      <td>2.228546</td>\n",
              "      <td>96.588076</td>\n",
              "      <td>9.818294</td>\n",
              "      <td>257.514772</td>\n",
              "      <td>39.574915</td>\n",
              "      <td>9.043955</td>\n",
              "      <td>...</td>\n",
              "      <td>1.331173</td>\n",
              "      <td>0.905932</td>\n",
              "      <td>253.801982</td>\n",
              "      <td>22.094635</td>\n",
              "      <td>23.931368</td>\n",
              "      <td>0.206483</td>\n",
              "      <td>0.142458</td>\n",
              "      <td>0.307592</td>\n",
              "      <td>3.138236</td>\n",
              "      <td>0.383147</td>\n",
              "    </tr>\n",
              "    <tr>\n",
              "      <th>min</th>\n",
              "      <td>3.000002e+06</td>\n",
              "      <td>-6.170000</td>\n",
              "      <td>0.000000</td>\n",
              "      <td>-11.000000</td>\n",
              "      <td>0.000000</td>\n",
              "      <td>0.000000</td>\n",
              "      <td>0.000000</td>\n",
              "      <td>-3875.000000</td>\n",
              "      <td>-1107.700000</td>\n",
              "      <td>0.000000</td>\n",
              "      <td>...</td>\n",
              "      <td>1.000000</td>\n",
              "      <td>1.000000</td>\n",
              "      <td>-5.000000</td>\n",
              "      <td>0.000000</td>\n",
              "      <td>0.000000</td>\n",
              "      <td>0.000000</td>\n",
              "      <td>0.000000</td>\n",
              "      <td>0.000000</td>\n",
              "      <td>0.000000</td>\n",
              "      <td>0.000000</td>\n",
              "    </tr>\n",
              "    <tr>\n",
              "      <th>25%</th>\n",
              "      <td>3.100632e+06</td>\n",
              "      <td>33.610000</td>\n",
              "      <td>158.000000</td>\n",
              "      <td>30.000000</td>\n",
              "      <td>0.000000</td>\n",
              "      <td>0.000000</td>\n",
              "      <td>0.000000</td>\n",
              "      <td>-83.000000</td>\n",
              "      <td>-7.100000</td>\n",
              "      <td>0.700000</td>\n",
              "      <td>...</td>\n",
              "      <td>1.000000</td>\n",
              "      <td>1.000000</td>\n",
              "      <td>205.000000</td>\n",
              "      <td>0.000000</td>\n",
              "      <td>0.000000</td>\n",
              "      <td>0.000000</td>\n",
              "      <td>0.000000</td>\n",
              "      <td>0.000000</td>\n",
              "      <td>0.000000</td>\n",
              "      <td>0.000000</td>\n",
              "    </tr>\n",
              "    <tr>\n",
              "      <th>50%</th>\n",
              "      <td>3.201534e+06</td>\n",
              "      <td>48.460000</td>\n",
              "      <td>366.000000</td>\n",
              "      <td>45.000000</td>\n",
              "      <td>0.250000</td>\n",
              "      <td>3.000000</td>\n",
              "      <td>0.000000</td>\n",
              "      <td>-5.000000</td>\n",
              "      <td>-0.300000</td>\n",
              "      <td>3.000000</td>\n",
              "      <td>...</td>\n",
              "      <td>1.000000</td>\n",
              "      <td>1.000000</td>\n",
              "      <td>329.000000</td>\n",
              "      <td>36.000000</td>\n",
              "      <td>0.000000</td>\n",
              "      <td>0.000000</td>\n",
              "      <td>0.000000</td>\n",
              "      <td>0.000000</td>\n",
              "      <td>5.000000</td>\n",
              "      <td>0.000000</td>\n",
              "    </tr>\n",
              "    <tr>\n",
              "      <th>75%</th>\n",
              "      <td>3.305376e+06</td>\n",
              "      <td>71.065000</td>\n",
              "      <td>723.000000</td>\n",
              "      <td>60.000000</td>\n",
              "      <td>0.990000</td>\n",
              "      <td>41.000000</td>\n",
              "      <td>0.300000</td>\n",
              "      <td>66.000000</td>\n",
              "      <td>1.600000</td>\n",
              "      <td>7.700000</td>\n",
              "      <td>...</td>\n",
              "      <td>2.000000</td>\n",
              "      <td>2.000000</td>\n",
              "      <td>515.000000</td>\n",
              "      <td>48.000000</td>\n",
              "      <td>42.000000</td>\n",
              "      <td>0.000000</td>\n",
              "      <td>0.000000</td>\n",
              "      <td>0.000000</td>\n",
              "      <td>7.000000</td>\n",
              "      <td>0.000000</td>\n",
              "    </tr>\n",
              "    <tr>\n",
              "      <th>max</th>\n",
              "      <td>3.399994e+06</td>\n",
              "      <td>1223.380000</td>\n",
              "      <td>7359.000000</td>\n",
              "      <td>400.000000</td>\n",
              "      <td>159.390000</td>\n",
              "      <td>4321.000000</td>\n",
              "      <td>1112.400000</td>\n",
              "      <td>5192.000000</td>\n",
              "      <td>2483.500000</td>\n",
              "      <td>221.700000</td>\n",
              "      <td>...</td>\n",
              "      <td>24.000000</td>\n",
              "      <td>15.000000</td>\n",
              "      <td>1812.000000</td>\n",
              "      <td>99.000000</td>\n",
              "      <td>99.000000</td>\n",
              "      <td>4.000000</td>\n",
              "      <td>3.000000</td>\n",
              "      <td>35.000000</td>\n",
              "      <td>9.000000</td>\n",
              "      <td>25.000000</td>\n",
              "    </tr>\n",
              "  </tbody>\n",
              "</table>\n",
              "<p>8 rows × 35 columns</p>\n",
              "</div>\n",
              "      <button class=\"colab-df-convert\" onclick=\"convertToInteractive('df-822919c9-2ab0-4087-b439-c084aee4dc09')\"\n",
              "              title=\"Convert this dataframe to an interactive table.\"\n",
              "              style=\"display:none;\">\n",
              "        \n",
              "  <svg xmlns=\"http://www.w3.org/2000/svg\" height=\"24px\"viewBox=\"0 0 24 24\"\n",
              "       width=\"24px\">\n",
              "    <path d=\"M0 0h24v24H0V0z\" fill=\"none\"/>\n",
              "    <path d=\"M18.56 5.44l.94 2.06.94-2.06 2.06-.94-2.06-.94-.94-2.06-.94 2.06-2.06.94zm-11 1L8.5 8.5l.94-2.06 2.06-.94-2.06-.94L8.5 2.5l-.94 2.06-2.06.94zm10 10l.94 2.06.94-2.06 2.06-.94-2.06-.94-.94-2.06-.94 2.06-2.06.94z\"/><path d=\"M17.41 7.96l-1.37-1.37c-.4-.4-.92-.59-1.43-.59-.52 0-1.04.2-1.43.59L10.3 9.45l-7.72 7.72c-.78.78-.78 2.05 0 2.83L4 21.41c.39.39.9.59 1.41.59.51 0 1.02-.2 1.41-.59l7.78-7.78 2.81-2.81c.8-.78.8-2.07 0-2.86zM5.41 20L4 18.59l7.72-7.72 1.47 1.35L5.41 20z\"/>\n",
              "  </svg>\n",
              "      </button>\n",
              "      \n",
              "  <style>\n",
              "    .colab-df-container {\n",
              "      display:flex;\n",
              "      flex-wrap:wrap;\n",
              "      gap: 12px;\n",
              "    }\n",
              "\n",
              "    .colab-df-convert {\n",
              "      background-color: #E8F0FE;\n",
              "      border: none;\n",
              "      border-radius: 50%;\n",
              "      cursor: pointer;\n",
              "      display: none;\n",
              "      fill: #1967D2;\n",
              "      height: 32px;\n",
              "      padding: 0 0 0 0;\n",
              "      width: 32px;\n",
              "    }\n",
              "\n",
              "    .colab-df-convert:hover {\n",
              "      background-color: #E2EBFA;\n",
              "      box-shadow: 0px 1px 2px rgba(60, 64, 67, 0.3), 0px 1px 3px 1px rgba(60, 64, 67, 0.15);\n",
              "      fill: #174EA6;\n",
              "    }\n",
              "\n",
              "    [theme=dark] .colab-df-convert {\n",
              "      background-color: #3B4455;\n",
              "      fill: #D2E3FC;\n",
              "    }\n",
              "\n",
              "    [theme=dark] .colab-df-convert:hover {\n",
              "      background-color: #434B5C;\n",
              "      box-shadow: 0px 1px 3px 1px rgba(0, 0, 0, 0.15);\n",
              "      filter: drop-shadow(0px 1px 2px rgba(0, 0, 0, 0.3));\n",
              "      fill: #FFFFFF;\n",
              "    }\n",
              "  </style>\n",
              "\n",
              "      <script>\n",
              "        const buttonEl =\n",
              "          document.querySelector('#df-822919c9-2ab0-4087-b439-c084aee4dc09 button.colab-df-convert');\n",
              "        buttonEl.style.display =\n",
              "          google.colab.kernel.accessAllowed ? 'block' : 'none';\n",
              "\n",
              "        async function convertToInteractive(key) {\n",
              "          const element = document.querySelector('#df-822919c9-2ab0-4087-b439-c084aee4dc09');\n",
              "          const dataTable =\n",
              "            await google.colab.kernel.invokeFunction('convertToInteractive',\n",
              "                                                     [key], {});\n",
              "          if (!dataTable) return;\n",
              "\n",
              "          const docLinkHtml = 'Like what you see? Visit the ' +\n",
              "            '<a target=\"_blank\" href=https://colab.research.google.com/notebooks/data_table.ipynb>data table notebook</a>'\n",
              "            + ' to learn more about interactive tables.';\n",
              "          element.innerHTML = '';\n",
              "          dataTable['output_type'] = 'display_data';\n",
              "          await google.colab.output.renderOutput(dataTable, element);\n",
              "          const docLink = document.createElement('div');\n",
              "          docLink.innerHTML = docLinkHtml;\n",
              "          element.appendChild(docLink);\n",
              "        }\n",
              "      </script>\n",
              "    </div>\n",
              "  </div>\n",
              "  "
            ]
          },
          "metadata": {},
          "execution_count": 22
        }
      ]
    },
    {
      "cell_type": "code",
      "metadata": {
        "colab": {
          "base_uri": "https://localhost:8080/"
        },
        "id": "9j4Uhc8yj02O",
        "outputId": "3f794a3d-feb4-434f-a10a-d370e28c4157"
      },
      "source": [
        "df_train.dtypes"
      ],
      "execution_count": 21,
      "outputs": [
        {
          "output_type": "execute_result",
          "data": {
            "text/plain": [
              "CustomerID                     int64\n",
              "Churn                         object\n",
              "MonthlyRevenue               float64\n",
              "MonthlyMinutes               float64\n",
              "TotalRecurringCharge         float64\n",
              "DirectorAssistedCalls        float64\n",
              "OverageMinutes               float64\n",
              "RoamingCalls                 float64\n",
              "PercChangeMinutes            float64\n",
              "PercChangeRevenues           float64\n",
              "DroppedCalls                 float64\n",
              "BlockedCalls                 float64\n",
              "UnansweredCalls              float64\n",
              "CustomerCareCalls            float64\n",
              "ThreewayCalls                float64\n",
              "ReceivedCalls                float64\n",
              "OutboundCalls                float64\n",
              "InboundCalls                 float64\n",
              "PeakCallsInOut               float64\n",
              "OffPeakCallsInOut            float64\n",
              "DroppedBlockedCalls          float64\n",
              "CallForwardingCalls          float64\n",
              "CallWaitingCalls             float64\n",
              "MonthsInService                int64\n",
              "UniqueSubs                     int64\n",
              "ActiveSubs                     int64\n",
              "ServiceArea                   object\n",
              "Handsets                     float64\n",
              "HandsetModels                float64\n",
              "CurrentEquipmentDays         float64\n",
              "AgeHH1                       float64\n",
              "AgeHH2                       float64\n",
              "ChildrenInHH                  object\n",
              "HandsetRefurbished            object\n",
              "HandsetWebCapable             object\n",
              "TruckOwner                    object\n",
              "RVOwner                       object\n",
              "Homeownership                 object\n",
              "BuysViaMailOrder              object\n",
              "RespondsToMailOffers          object\n",
              "OptOutMailings                object\n",
              "NonUSTravel                   object\n",
              "OwnsComputer                  object\n",
              "HasCreditCard                 object\n",
              "RetentionCalls                 int64\n",
              "RetentionOffersAccepted        int64\n",
              "NewCellphoneUser              object\n",
              "NotNewCellphoneUser           object\n",
              "ReferralsMadeBySubscriber      int64\n",
              "IncomeGroup                    int64\n",
              "OwnsMotorcycle                object\n",
              "AdjustmentsToCreditRating      int64\n",
              "HandsetPrice                  object\n",
              "MadeCallToRetentionTeam       object\n",
              "CreditRating                  object\n",
              "PrizmCode                     object\n",
              "Occupation                    object\n",
              "MaritalStatus                 object\n",
              "dtype: object"
            ]
          },
          "metadata": {},
          "execution_count": 21
        }
      ]
    },
    {
      "cell_type": "code",
      "metadata": {
        "id": "QCLnIcOckb2E"
      },
      "source": [
        "df.dropna(inplace = True)"
      ],
      "execution_count": null,
      "outputs": []
    },
    {
      "cell_type": "code",
      "metadata": {
        "colab": {
          "base_uri": "https://localhost:8080/"
        },
        "id": "QOWQB48akgv6",
        "outputId": "e8cc59be-3e03-4db2-ff1d-ca73433d3eb9"
      },
      "source": [
        "df.isnull().sum()"
      ],
      "execution_count": null,
      "outputs": [
        {
          "output_type": "execute_result",
          "data": {
            "text/plain": [
              "customerID           0\n",
              "gender               0\n",
              "SeniorCitizen        0\n",
              "Partner              0\n",
              "Dependents           0\n",
              "PaperlessBilling     0\n",
              "PaymentMethod        0\n",
              "Contract             0\n",
              "MonthlyCharges       0\n",
              "churn                0\n",
              "Tenure               0\n",
              "DeviceProtection     0\n",
              "InternetService      0\n",
              "MultipleLines        0\n",
              "OnlineBackup         0\n",
              "OnlineSecurity       0\n",
              "PhoneService         0\n",
              "StreamingMovies      0\n",
              "StreamingTV          0\n",
              "TechSupport          0\n",
              "MeanMonthlyCharge    0\n",
              "MeanMonthlyUsage     0\n",
              "dtype: int64"
            ]
          },
          "metadata": {},
          "execution_count": 8
        }
      ]
    },
    {
      "cell_type": "code",
      "metadata": {
        "colab": {
          "base_uri": "https://localhost:8080/"
        },
        "id": "WCFQjv5qkmVB",
        "outputId": "9eebd188-6709-4cf7-91bc-139104630aeb"
      },
      "source": [
        "df.dtypes"
      ],
      "execution_count": null,
      "outputs": [
        {
          "output_type": "execute_result",
          "data": {
            "text/plain": [
              "customerID            object\n",
              "gender                object\n",
              "SeniorCitizen          int64\n",
              "Partner               object\n",
              "Dependents            object\n",
              "PaperlessBilling      object\n",
              "PaymentMethod         object\n",
              "Contract              object\n",
              "MonthlyCharges       float64\n",
              "churn                  int64\n",
              "Tenure               float64\n",
              "DeviceProtection      object\n",
              "InternetService       object\n",
              "MultipleLines         object\n",
              "OnlineBackup          object\n",
              "OnlineSecurity        object\n",
              "PhoneService          object\n",
              "StreamingMovies       object\n",
              "StreamingTV           object\n",
              "TechSupport           object\n",
              "MeanMonthlyCharge      int64\n",
              "MeanMonthlyUsage      object\n",
              "dtype: object"
            ]
          },
          "metadata": {},
          "execution_count": 9
        }
      ]
    },
    {
      "cell_type": "code",
      "metadata": {
        "id": "fDFq3FbAkq5u"
      },
      "source": [
        "df['MeanMonthlyUsage'] = pd.to_numeric(df['MeanMonthlyUsage'], errors ='coerce')\n",
        "df['MeanMonthlyCharge'] = pd.to_numeric(df['MeanMonthlyCharge'], errors ='coerce')"
      ],
      "execution_count": null,
      "outputs": []
    },
    {
      "cell_type": "code",
      "metadata": {
        "colab": {
          "base_uri": "https://localhost:8080/",
          "height": 142
        },
        "id": "eSRs8NVhkzpL",
        "outputId": "4b700a0c-192a-49a3-a9d9-a09ac6cc98e4"
      },
      "source": [
        "import matplotlib.pyplot as plt\n",
        "pd.crosstab(df.churn,df.gender)"
      ],
      "execution_count": null,
      "outputs": [
        {
          "output_type": "execute_result",
          "data": {
            "text/html": [
              "<div>\n",
              "<style scoped>\n",
              "    .dataframe tbody tr th:only-of-type {\n",
              "        vertical-align: middle;\n",
              "    }\n",
              "\n",
              "    .dataframe tbody tr th {\n",
              "        vertical-align: top;\n",
              "    }\n",
              "\n",
              "    .dataframe thead th {\n",
              "        text-align: right;\n",
              "    }\n",
              "</style>\n",
              "<table border=\"1\" class=\"dataframe\">\n",
              "  <thead>\n",
              "    <tr style=\"text-align: right;\">\n",
              "      <th>gender</th>\n",
              "      <th>Female</th>\n",
              "      <th>Male</th>\n",
              "    </tr>\n",
              "    <tr>\n",
              "      <th>churn</th>\n",
              "      <th></th>\n",
              "      <th></th>\n",
              "    </tr>\n",
              "  </thead>\n",
              "  <tbody>\n",
              "    <tr>\n",
              "      <th>0</th>\n",
              "      <td>2544</td>\n",
              "      <td>2619</td>\n",
              "    </tr>\n",
              "    <tr>\n",
              "      <th>1</th>\n",
              "      <td>849</td>\n",
              "      <td>854</td>\n",
              "    </tr>\n",
              "  </tbody>\n",
              "</table>\n",
              "</div>"
            ],
            "text/plain": [
              "gender  Female  Male\n",
              "churn               \n",
              "0         2544  2619\n",
              "1          849   854"
            ]
          },
          "metadata": {},
          "execution_count": 11
        }
      ]
    },
    {
      "cell_type": "code",
      "metadata": {
        "colab": {
          "base_uri": "https://localhost:8080/",
          "height": 142
        },
        "id": "kNyrniSMk7Rb",
        "outputId": "91df3a50-c507-48d5-fa89-9c33916ac5ef"
      },
      "source": [
        "pd.crosstab(df.SeniorCitizen, df.churn)"
      ],
      "execution_count": null,
      "outputs": [
        {
          "output_type": "execute_result",
          "data": {
            "text/html": [
              "<div>\n",
              "<style scoped>\n",
              "    .dataframe tbody tr th:only-of-type {\n",
              "        vertical-align: middle;\n",
              "    }\n",
              "\n",
              "    .dataframe tbody tr th {\n",
              "        vertical-align: top;\n",
              "    }\n",
              "\n",
              "    .dataframe thead th {\n",
              "        text-align: right;\n",
              "    }\n",
              "</style>\n",
              "<table border=\"1\" class=\"dataframe\">\n",
              "  <thead>\n",
              "    <tr style=\"text-align: right;\">\n",
              "      <th>churn</th>\n",
              "      <th>0</th>\n",
              "      <th>1</th>\n",
              "    </tr>\n",
              "    <tr>\n",
              "      <th>SeniorCitizen</th>\n",
              "      <th></th>\n",
              "      <th></th>\n",
              "    </tr>\n",
              "  </thead>\n",
              "  <tbody>\n",
              "    <tr>\n",
              "      <th>0</th>\n",
              "      <td>4497</td>\n",
              "      <td>1257</td>\n",
              "    </tr>\n",
              "    <tr>\n",
              "      <th>1</th>\n",
              "      <td>666</td>\n",
              "      <td>446</td>\n",
              "    </tr>\n",
              "  </tbody>\n",
              "</table>\n",
              "</div>"
            ],
            "text/plain": [
              "churn             0     1\n",
              "SeniorCitizen            \n",
              "0              4497  1257\n",
              "1               666   446"
            ]
          },
          "metadata": {},
          "execution_count": 12
        }
      ]
    },
    {
      "cell_type": "code",
      "metadata": {
        "id": "QergAujglAtm"
      },
      "source": [
        "df['customerID'] =  df['customerID'].astype('str')\n",
        "df['gender'] =  df['gender'].astype('str')\n",
        "df['Partner'] =  df['Partner'].astype('str')\n",
        "df['Dependents'] =  df['Dependents'].astype('str')\n",
        "df['PaperlessBilling'] =  df['PaperlessBilling'].astype('str')\n",
        "df['PaymentMethod'] =  df['PaymentMethod'].astype('str')\n",
        "df['Contract'] =  df['Contract'].astype('str')\n",
        "df['MonthlyCharges'] =  df['MonthlyCharges'].astype('str')\n",
        "df['DeviceProtection'] =  df['DeviceProtection'].astype('str')\n",
        "df['InternetService'] =  df['InternetService'].astype('str')\n",
        "df['MultipleLines'] =  df['MultipleLines'].astype('str')\n",
        "df['OnlineBackup'] =  df['OnlineBackup'].astype('str')\n",
        "df['OnlineSecurity'] =  df['OnlineSecurity'].astype('str')\n",
        "df['PhoneService'] =  df['PhoneService'].astype('str')\n",
        "df['StreamingMovies'] =  df['StreamingMovies'].astype('str')\n",
        "df['StreamingTV'] =  df['StreamingTV'].astype('str')\n",
        "df['TechSupport'] =  df['TechSupport'].astype('str')\n"
      ],
      "execution_count": null,
      "outputs": []
    },
    {
      "cell_type": "code",
      "metadata": {
        "colab": {
          "base_uri": "https://localhost:8080/",
          "height": 142
        },
        "id": "LlGaB4LRlTn1",
        "outputId": "a392f921-e992-4b8d-c411-2fbffc775d65"
      },
      "source": [
        "pd.crosstab(df.churn,df.Dependents, df.Tenure, aggfunc='count').round()"
      ],
      "execution_count": null,
      "outputs": [
        {
          "output_type": "execute_result",
          "data": {
            "text/html": [
              "<div>\n",
              "<style scoped>\n",
              "    .dataframe tbody tr th:only-of-type {\n",
              "        vertical-align: middle;\n",
              "    }\n",
              "\n",
              "    .dataframe tbody tr th {\n",
              "        vertical-align: top;\n",
              "    }\n",
              "\n",
              "    .dataframe thead th {\n",
              "        text-align: right;\n",
              "    }\n",
              "</style>\n",
              "<table border=\"1\" class=\"dataframe\">\n",
              "  <thead>\n",
              "    <tr style=\"text-align: right;\">\n",
              "      <th>Dependents</th>\n",
              "      <th>No</th>\n",
              "      <th>Yes</th>\n",
              "    </tr>\n",
              "    <tr>\n",
              "      <th>churn</th>\n",
              "      <th></th>\n",
              "      <th></th>\n",
              "    </tr>\n",
              "  </thead>\n",
              "  <tbody>\n",
              "    <tr>\n",
              "      <th>0</th>\n",
              "      <td>3390</td>\n",
              "      <td>1773</td>\n",
              "    </tr>\n",
              "    <tr>\n",
              "      <th>1</th>\n",
              "      <td>1401</td>\n",
              "      <td>302</td>\n",
              "    </tr>\n",
              "  </tbody>\n",
              "</table>\n",
              "</div>"
            ],
            "text/plain": [
              "Dependents    No   Yes\n",
              "churn                 \n",
              "0           3390  1773\n",
              "1           1401   302"
            ]
          },
          "metadata": {},
          "execution_count": 14
        }
      ]
    },
    {
      "cell_type": "code",
      "metadata": {
        "colab": {
          "base_uri": "https://localhost:8080/",
          "height": 375
        },
        "id": "QhKcblsMlZhT",
        "outputId": "ffb0d99d-19a8-443c-e5cc-65c8eccf78a5"
      },
      "source": [
        "df.corr()['churn'].sort_values(ascending = False).plot(kind='bar')"
      ],
      "execution_count": null,
      "outputs": [
        {
          "output_type": "execute_result",
          "data": {
            "text/plain": [
              "<matplotlib.axes._subplots.AxesSubplot at 0x7ff8e2adbb10>"
            ]
          },
          "metadata": {},
          "execution_count": 15
        },
        {
          "output_type": "display_data",
          "data": {
            "image/png": "[encoded data removed]",
            "text/plain": [
              "<Figure size 432x288 with 1 Axes>"
            ]
          },
          "metadata": {
            "needs_background": "light"
          }
        }
      ]
    },
    {
      "cell_type": "code",
      "metadata": {
        "colab": {
          "base_uri": "https://localhost:8080/",
          "height": 379
        },
        "id": "XjjDLEPWliU_",
        "outputId": "e3088b6d-6b36-46b1-c4f6-a8cb8502df1c"
      },
      "source": [
        "import seaborn as sn\n",
        "df_corr =df.corr()\n",
        "df_corr\n",
        "sn.heatmap(df_corr, annot=True)"
      ],
      "execution_count": null,
      "outputs": [
        {
          "output_type": "execute_result",
          "data": {
            "text/plain": [
              "<matplotlib.axes._subplots.AxesSubplot at 0x7ff8e2503b50>"
            ]
          },
          "metadata": {},
          "execution_count": 16
        },
        {
          "output_type": "display_data",
          "data": {
            "image/png": "[encoded data removed]",
            "text/plain": [
              "<Figure size 432x288 with 2 Axes>"
            ]
          },
          "metadata": {
            "needs_background": "light"
          }
        }
      ]
    },
    {
      "cell_type": "code",
      "metadata": {
        "id": "IxFFGtGTl7yP"
      },
      "source": [
        "df['churn'].replace(to_replace=\"Yes\", value = 1, inplace = True)\n",
        "df['churn'].replace(to_replace=\"No\", value = 0, inplace = True)"
      ],
      "execution_count": null,
      "outputs": []
    },
    {
      "cell_type": "code",
      "metadata": {
        "colab": {
          "base_uri": "https://localhost:8080/",
          "height": 180
        },
        "id": "ReHDdgHieIg5",
        "outputId": "f7168ca7-155d-4674-c2a3-aa25968dcedd"
      },
      "source": [
        "df_Dummies = pd.get_dummies(df)\n",
        "df_Dummies.head()"
      ],
      "execution_count": null,
      "outputs": [
        {
          "output_type": "error",
          "ename": "NameError",
          "evalue": "ignored",
          "traceback": [
            "\u001b[0;31m---------------------------------------------------------------------------\u001b[0m",
            "\u001b[0;31mNameError\u001b[0m                                 Traceback (most recent call last)",
            "\u001b[0;32m<ipython-input-2-5190d1477486>\u001b[0m in \u001b[0;36m<module>\u001b[0;34m()\u001b[0m\n\u001b[0;32m----> 1\u001b[0;31m \u001b[0mdf_Dummies\u001b[0m \u001b[0;34m=\u001b[0m \u001b[0mpd\u001b[0m\u001b[0;34m.\u001b[0m\u001b[0mget_dummies\u001b[0m\u001b[0;34m(\u001b[0m\u001b[0mdf\u001b[0m\u001b[0;34m)\u001b[0m\u001b[0;34m\u001b[0m\u001b[0;34m\u001b[0m\u001b[0m\n\u001b[0m\u001b[1;32m      2\u001b[0m \u001b[0mdf_Dummies\u001b[0m\u001b[0;34m.\u001b[0m\u001b[0mhead\u001b[0m\u001b[0;34m(\u001b[0m\u001b[0;34m)\u001b[0m\u001b[0;34m\u001b[0m\u001b[0;34m\u001b[0m\u001b[0m\n",
            "\u001b[0;31mNameError\u001b[0m: name 'pd' is not defined"
          ]
        }
      ]
    },
    {
      "cell_type": "code",
      "metadata": {
        "colab": {
          "base_uri": "https://localhost:8080/",
          "height": 285
        },
        "id": "SFyaP3JSmN2q",
        "outputId": "01e61f25-ef4d-4167-8a4a-a766d5e498a8"
      },
      "source": [
        "from statsmodels.stats.outliers_influence import variance_inflation_factor\n",
        "x = df_Dummies.drop(['churn','MeanMonthlyUsage'], axis =1 )\n",
        "y = df_Dummies.churn\n",
        "vif_df[\"VIF\"] = [variance_inflation_factor(x.values,i) for i in range(len(x.columns))]\n",
        "vif_data2[\"features\"] = x.columns\n"
      ],
      "execution_count": null,
      "outputs": [
        {
          "output_type": "stream",
          "text": [
            "/usr/local/lib/python3.7/dist-packages/statsmodels/tools/_testing.py:19: FutureWarning: pandas.util.testing is deprecated. Use the functions in the public API at pandas.testing instead.\n",
            "  import pandas.util.testing as tm\n"
          ],
          "name": "stderr"
        },
        {
          "output_type": "error",
          "ename": "NameError",
          "evalue": "ignored",
          "traceback": [
            "\u001b[0;31m---------------------------------------------------------------------------\u001b[0m",
            "\u001b[0;31mNameError\u001b[0m                                 Traceback (most recent call last)",
            "\u001b[0;32m<ipython-input-1-9e7a384da71f>\u001b[0m in \u001b[0;36m<module>\u001b[0;34m()\u001b[0m\n\u001b[1;32m      1\u001b[0m \u001b[0;32mfrom\u001b[0m \u001b[0mstatsmodels\u001b[0m\u001b[0;34m.\u001b[0m\u001b[0mstats\u001b[0m\u001b[0;34m.\u001b[0m\u001b[0moutliers_influence\u001b[0m \u001b[0;32mimport\u001b[0m \u001b[0mvariance_inflation_factor\u001b[0m\u001b[0;34m\u001b[0m\u001b[0;34m\u001b[0m\u001b[0m\n\u001b[0;32m----> 2\u001b[0;31m \u001b[0mx\u001b[0m \u001b[0;34m=\u001b[0m \u001b[0mdf_Dummies\u001b[0m\u001b[0;34m.\u001b[0m\u001b[0mdrop\u001b[0m\u001b[0;34m(\u001b[0m\u001b[0;34m[\u001b[0m\u001b[0;34m'churn'\u001b[0m\u001b[0;34m,\u001b[0m\u001b[0;34m'MeanMonthlyUsage'\u001b[0m\u001b[0;34m]\u001b[0m\u001b[0;34m,\u001b[0m \u001b[0maxis\u001b[0m \u001b[0;34m=\u001b[0m\u001b[0;36m1\u001b[0m \u001b[0;34m)\u001b[0m\u001b[0;34m\u001b[0m\u001b[0;34m\u001b[0m\u001b[0m\n\u001b[0m\u001b[1;32m      3\u001b[0m \u001b[0my\u001b[0m \u001b[0;34m=\u001b[0m \u001b[0mdf_Dummies\u001b[0m\u001b[0;34m.\u001b[0m\u001b[0mchurn\u001b[0m\u001b[0;34m\u001b[0m\u001b[0;34m\u001b[0m\u001b[0m\n\u001b[1;32m      4\u001b[0m \u001b[0mvif_df\u001b[0m\u001b[0;34m[\u001b[0m\u001b[0;34m\"VIF\"\u001b[0m\u001b[0;34m]\u001b[0m \u001b[0;34m=\u001b[0m \u001b[0;34m[\u001b[0m\u001b[0mvariance_inflation_factor\u001b[0m\u001b[0;34m(\u001b[0m\u001b[0mx\u001b[0m\u001b[0;34m.\u001b[0m\u001b[0mvalues\u001b[0m\u001b[0;34m,\u001b[0m\u001b[0mi\u001b[0m\u001b[0;34m)\u001b[0m \u001b[0;32mfor\u001b[0m \u001b[0mi\u001b[0m \u001b[0;32min\u001b[0m \u001b[0mrange\u001b[0m\u001b[0;34m(\u001b[0m\u001b[0mlen\u001b[0m\u001b[0;34m(\u001b[0m\u001b[0mx\u001b[0m\u001b[0;34m.\u001b[0m\u001b[0mcolumns\u001b[0m\u001b[0;34m)\u001b[0m\u001b[0;34m)\u001b[0m\u001b[0;34m]\u001b[0m\u001b[0;34m\u001b[0m\u001b[0;34m\u001b[0m\u001b[0m\n\u001b[1;32m      5\u001b[0m \u001b[0mvif_data2\u001b[0m\u001b[0;34m[\u001b[0m\u001b[0;34m\"features\"\u001b[0m\u001b[0;34m]\u001b[0m \u001b[0;34m=\u001b[0m \u001b[0mx\u001b[0m\u001b[0;34m.\u001b[0m\u001b[0mcolumns\u001b[0m\u001b[0;34m\u001b[0m\u001b[0;34m\u001b[0m\u001b[0m\n",
            "\u001b[0;31mNameError\u001b[0m: name 'df_Dummies' is not defined"
          ]
        }
      ]
    }
  ]
}